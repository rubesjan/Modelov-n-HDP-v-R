{
 "cells": [
  {
   "cell_type": "markdown",
   "id": "1eb17569",
   "metadata": {},
   "source": [
    "# Praktická statistika - 3. domácí úkol\n",
    "\n",
    "## Modelování HDP"
   ]
  },
  {
   "cell_type": "code",
   "execution_count": null,
   "id": "db590d09-77fe-4ce5-b5e7-f4c85067b76a",
   "metadata": {
    "vscode": {
     "languageId": "r"
    }
   },
   "outputs": [],
   "source": [
    ".libPaths(\"../libs\")\n",
    "library(ggplot2)\n",
    "library(dplyr)\n",
    "library(eurostat)\n",
    "library(lmtest)\n",
    "library(MASS)\n",
    "library(car)"
   ]
  },
  {
   "cell_type": "code",
   "execution_count": 3,
   "id": "35c61dd5-5e50-4755-bc4b-c889f50bdf34",
   "metadata": {
    "vscode": {
     "languageId": "r"
    }
   },
   "outputs": [
    {
     "name": "stderr",
     "output_type": "stream",
     "text": [
      "Table nama_10_pc cached at /tmp/Rtmpi26MSj/eurostat/0147ca6e479f1adc98d26eab474b6847.rds\n",
      "\n"
     ]
    },
    {
     "data": {
      "text/html": [
       "<table class=\"dataframe\">\n",
       "<caption>A tibble: 6 × 6</caption>\n",
       "<thead>\n",
       "\t<tr><th scope=col>freq</th><th scope=col>unit</th><th scope=col>na_item</th><th scope=col>geo</th><th scope=col>TIME_PERIOD</th><th scope=col>values</th></tr>\n",
       "\t<tr><th scope=col>&lt;chr&gt;</th><th scope=col>&lt;chr&gt;</th><th scope=col>&lt;chr&gt;</th><th scope=col>&lt;chr&gt;</th><th scope=col>&lt;date&gt;</th><th scope=col>&lt;dbl&gt;</th></tr>\n",
       "</thead>\n",
       "<tbody>\n",
       "\t<tr><td>A</td><td>CLV10_EUR_HAB</td><td>B1GQ</td><td>AL</td><td>1995-01-01</td><td>1310</td></tr>\n",
       "\t<tr><td>A</td><td>CLV10_EUR_HAB</td><td>B1GQ</td><td>AL</td><td>1996-01-01</td><td>1410</td></tr>\n",
       "\t<tr><td>A</td><td>CLV10_EUR_HAB</td><td>B1GQ</td><td>AL</td><td>1997-01-01</td><td>1270</td></tr>\n",
       "\t<tr><td>A</td><td>CLV10_EUR_HAB</td><td>B1GQ</td><td>AL</td><td>1998-01-01</td><td>1390</td></tr>\n",
       "\t<tr><td>A</td><td>CLV10_EUR_HAB</td><td>B1GQ</td><td>AL</td><td>1999-01-01</td><td>1580</td></tr>\n",
       "\t<tr><td>A</td><td>CLV10_EUR_HAB</td><td>B1GQ</td><td>AL</td><td>2000-01-01</td><td>1700</td></tr>\n",
       "</tbody>\n",
       "</table>\n"
      ],
      "text/latex": [
       "A tibble: 6 × 6\n",
       "\\begin{tabular}{llllll}\n",
       " freq & unit & na\\_item & geo & TIME\\_PERIOD & values\\\\\n",
       " <chr> & <chr> & <chr> & <chr> & <date> & <dbl>\\\\\n",
       "\\hline\n",
       "\t A & CLV10\\_EUR\\_HAB & B1GQ & AL & 1995-01-01 & 1310\\\\\n",
       "\t A & CLV10\\_EUR\\_HAB & B1GQ & AL & 1996-01-01 & 1410\\\\\n",
       "\t A & CLV10\\_EUR\\_HAB & B1GQ & AL & 1997-01-01 & 1270\\\\\n",
       "\t A & CLV10\\_EUR\\_HAB & B1GQ & AL & 1998-01-01 & 1390\\\\\n",
       "\t A & CLV10\\_EUR\\_HAB & B1GQ & AL & 1999-01-01 & 1580\\\\\n",
       "\t A & CLV10\\_EUR\\_HAB & B1GQ & AL & 2000-01-01 & 1700\\\\\n",
       "\\end{tabular}\n"
      ],
      "text/markdown": [
       "\n",
       "A tibble: 6 × 6\n",
       "\n",
       "| freq &lt;chr&gt; | unit &lt;chr&gt; | na_item &lt;chr&gt; | geo &lt;chr&gt; | TIME_PERIOD &lt;date&gt; | values &lt;dbl&gt; |\n",
       "|---|---|---|---|---|---|\n",
       "| A | CLV10_EUR_HAB | B1GQ | AL | 1995-01-01 | 1310 |\n",
       "| A | CLV10_EUR_HAB | B1GQ | AL | 1996-01-01 | 1410 |\n",
       "| A | CLV10_EUR_HAB | B1GQ | AL | 1997-01-01 | 1270 |\n",
       "| A | CLV10_EUR_HAB | B1GQ | AL | 1998-01-01 | 1390 |\n",
       "| A | CLV10_EUR_HAB | B1GQ | AL | 1999-01-01 | 1580 |\n",
       "| A | CLV10_EUR_HAB | B1GQ | AL | 2000-01-01 | 1700 |\n",
       "\n"
      ],
      "text/plain": [
       "  freq unit          na_item geo TIME_PERIOD values\n",
       "1 A    CLV10_EUR_HAB B1GQ    AL  1995-01-01  1310  \n",
       "2 A    CLV10_EUR_HAB B1GQ    AL  1996-01-01  1410  \n",
       "3 A    CLV10_EUR_HAB B1GQ    AL  1997-01-01  1270  \n",
       "4 A    CLV10_EUR_HAB B1GQ    AL  1998-01-01  1390  \n",
       "5 A    CLV10_EUR_HAB B1GQ    AL  1999-01-01  1580  \n",
       "6 A    CLV10_EUR_HAB B1GQ    AL  2000-01-01  1700  "
      ]
     },
     "metadata": {},
     "output_type": "display_data"
    }
   ],
   "source": [
    "data <- get_eurostat('nama_10_pc')\n",
    "\n",
    "head(data)"
   ]
  },
  {
   "cell_type": "markdown",
   "id": "abff4845",
   "metadata": {},
   "source": [
    "vyfiltrování data podle zadání:"
   ]
  },
  {
   "cell_type": "code",
   "execution_count": 4,
   "id": "2bef99df-a649-46fc-a7e6-f50bc2e4f1cd",
   "metadata": {
    "vscode": {
     "languageId": "r"
    }
   },
   "outputs": [
    {
     "data": {
      "text/html": [
       "<table class=\"dataframe\">\n",
       "<caption>A tibble: 6 × 2</caption>\n",
       "<thead>\n",
       "\t<tr><th scope=col>geo</th><th scope=col>values</th></tr>\n",
       "\t<tr><th scope=col>&lt;chr&gt;</th><th scope=col>&lt;dbl&gt;</th></tr>\n",
       "</thead>\n",
       "<tbody>\n",
       "\t<tr><td>AL</td><td> 4690</td></tr>\n",
       "\t<tr><td>AT</td><td>42720</td></tr>\n",
       "\t<tr><td>BE</td><td>39910</td></tr>\n",
       "\t<tr><td>BG</td><td> 8880</td></tr>\n",
       "\t<tr><td>CH</td><td>75330</td></tr>\n",
       "\t<tr><td>CY</td><td>24760</td></tr>\n",
       "</tbody>\n",
       "</table>\n"
      ],
      "text/latex": [
       "A tibble: 6 × 2\n",
       "\\begin{tabular}{ll}\n",
       " geo & values\\\\\n",
       " <chr> & <dbl>\\\\\n",
       "\\hline\n",
       "\t AL &  4690\\\\\n",
       "\t AT & 42720\\\\\n",
       "\t BE & 39910\\\\\n",
       "\t BG &  8880\\\\\n",
       "\t CH & 75330\\\\\n",
       "\t CY & 24760\\\\\n",
       "\\end{tabular}\n"
      ],
      "text/markdown": [
       "\n",
       "A tibble: 6 × 2\n",
       "\n",
       "| geo &lt;chr&gt; | values &lt;dbl&gt; |\n",
       "|---|---|\n",
       "| AL |  4690 |\n",
       "| AT | 42720 |\n",
       "| BE | 39910 |\n",
       "| BG |  8880 |\n",
       "| CH | 75330 |\n",
       "| CY | 24760 |\n",
       "\n"
      ],
      "text/plain": [
       "  geo values\n",
       "1 AL   4690 \n",
       "2 AT  42720 \n",
       "3 BE  39910 \n",
       "4 BG   8880 \n",
       "5 CH  75330 \n",
       "6 CY  24760 "
      ]
     },
     "metadata": {},
     "output_type": "display_data"
    }
   ],
   "source": [
    "data = data[data$unit == \"CP_EUR_HAB\", ]\n",
    "data = data[data$na_item == \"B1GQ\", ]\n",
    "data = data[data$TIME_PERIOD == as.Date(\"2020-01-01\"), ]\n",
    "data <- data[!grepl(\"^(EU|EA)\", data$geo), ]\n",
    "\n",
    "data$TIME_PERIOD = NULL\n",
    "data$freq = NULL\n",
    "data$unit = NULL\n",
    "data$na_item = NULL\n",
    "\n",
    "head(data)"
   ]
  },
  {
   "cell_type": "markdown",
   "id": "15579bc7-ea2c-4a27-9524-5b2e297a3d27",
   "metadata": {},
   "source": [
    "HDP je celková peněžní hodnota prodktů a služeb nově vytvořená za daný rok na daném území. My máme modelovat HDP v přepočtu na jednoho obyvatele.\n",
    "\n",
    "Myslím si, že velký vliv bude mít na HDP průměrné výdaje jednoho obyvatele daného území - lidé jsou koneční uživatelé a domácí výroba bude vysoce korelovaná s tím kolik toho lidé na daném územé utratí.\n",
    "\n",
    "Druhým důležitým \"spotřebitelem\" je vláda. Vezmu si tedy výdaje vlády přepočítané na jednoho obyvatele v daném období.\n",
    "\n",
    "Myslím si, že inflace by také mohla ovlivňovat velikost HDP, takže třetím spojitým regresorem bude inflace.\n",
    "\n",
    "Jako kategorický regres si vezmeme, zda daná země platí eurem. Myslím si, že země, které budou mít euro budou mít výrazně vyšší HDP na obyvatele, takže to prozkoumáme.\n",
    "\n",
    "## Výdaje obyvatele\n",
    "\n",
    "https://ec.europa.eu/eurostat/databrowser/view/hbs_exp_t111/default/table?lang=en\n",
    "\n",
    "obsahují všechny tyto výdaje:\n",
    "\n",
    "    CP01              Food and non-alcoholic beverages\n",
    "    CP02              Alcoholic beverages, tobacco and narcotics\n",
    "    CP03              Clothing and footwear\n",
    "    CP04              Housing, water, electricity, gas and other fuels\n",
    "    CP05              Furnishings, household equipment and routine maintenance of the house\n",
    "    CP06              Health\n",
    "    CP07              Transport\n",
    "    CP08              Communications\n",
    "    CP09              Recreation and culture\n",
    "    CP10              Education\n",
    "    CP11              Restaurants and hotels\n",
    "    CP12              Miscellaneous goods and services\n",
    "\n",
    "\n",
    "V závislosti na zemi obsahují/neobsahují náklady na bydlení, například v ČR je neobsahují."
   ]
  },
  {
   "cell_type": "code",
   "execution_count": 5,
   "id": "16de074a-a889-4b5a-a0bb-dfd551c7ded5",
   "metadata": {
    "vscode": {
     "languageId": "r"
    }
   },
   "outputs": [
    {
     "name": "stderr",
     "output_type": "stream",
     "text": [
      "Table hbs_exp_t111 cached at /tmp/Rtmpi26MSj/eurostat/4948e8b506f22907313b117658017e88.rds\n",
      "\n"
     ]
    },
    {
     "data": {
      "text/html": [
       "<table class=\"dataframe\">\n",
       "<caption>A tibble: 6 × 5</caption>\n",
       "<thead>\n",
       "\t<tr><th scope=col>freq</th><th scope=col>unit</th><th scope=col>geo</th><th scope=col>TIME_PERIOD</th><th scope=col>values</th></tr>\n",
       "\t<tr><th scope=col>&lt;chr&gt;</th><th scope=col>&lt;chr&gt;</th><th scope=col>&lt;chr&gt;</th><th scope=col>&lt;date&gt;</th><th scope=col>&lt;dbl&gt;</th></tr>\n",
       "</thead>\n",
       "<tbody>\n",
       "\t<tr><td>A</td><td>EUR_AE</td><td>AT</td><td>1994-01-01</td><td>15438</td></tr>\n",
       "\t<tr><td>A</td><td>EUR_AE</td><td>AT</td><td>1999-01-01</td><td>17534</td></tr>\n",
       "\t<tr><td>A</td><td>EUR_AE</td><td>AT</td><td>2005-01-01</td><td>19511</td></tr>\n",
       "\t<tr><td>A</td><td>EUR_AE</td><td>AT</td><td>2010-01-01</td><td>22574</td></tr>\n",
       "\t<tr><td>A</td><td>EUR_AE</td><td>AT</td><td>2015-01-01</td><td>23590</td></tr>\n",
       "\t<tr><td>A</td><td>EUR_AE</td><td>AT</td><td>2020-01-01</td><td>25882</td></tr>\n",
       "</tbody>\n",
       "</table>\n"
      ],
      "text/latex": [
       "A tibble: 6 × 5\n",
       "\\begin{tabular}{lllll}\n",
       " freq & unit & geo & TIME\\_PERIOD & values\\\\\n",
       " <chr> & <chr> & <chr> & <date> & <dbl>\\\\\n",
       "\\hline\n",
       "\t A & EUR\\_AE & AT & 1994-01-01 & 15438\\\\\n",
       "\t A & EUR\\_AE & AT & 1999-01-01 & 17534\\\\\n",
       "\t A & EUR\\_AE & AT & 2005-01-01 & 19511\\\\\n",
       "\t A & EUR\\_AE & AT & 2010-01-01 & 22574\\\\\n",
       "\t A & EUR\\_AE & AT & 2015-01-01 & 23590\\\\\n",
       "\t A & EUR\\_AE & AT & 2020-01-01 & 25882\\\\\n",
       "\\end{tabular}\n"
      ],
      "text/markdown": [
       "\n",
       "A tibble: 6 × 5\n",
       "\n",
       "| freq &lt;chr&gt; | unit &lt;chr&gt; | geo &lt;chr&gt; | TIME_PERIOD &lt;date&gt; | values &lt;dbl&gt; |\n",
       "|---|---|---|---|---|\n",
       "| A | EUR_AE | AT | 1994-01-01 | 15438 |\n",
       "| A | EUR_AE | AT | 1999-01-01 | 17534 |\n",
       "| A | EUR_AE | AT | 2005-01-01 | 19511 |\n",
       "| A | EUR_AE | AT | 2010-01-01 | 22574 |\n",
       "| A | EUR_AE | AT | 2015-01-01 | 23590 |\n",
       "| A | EUR_AE | AT | 2020-01-01 | 25882 |\n",
       "\n"
      ],
      "text/plain": [
       "  freq unit   geo TIME_PERIOD values\n",
       "1 A    EUR_AE AT  1994-01-01  15438 \n",
       "2 A    EUR_AE AT  1999-01-01  17534 \n",
       "3 A    EUR_AE AT  2005-01-01  19511 \n",
       "4 A    EUR_AE AT  2010-01-01  22574 \n",
       "5 A    EUR_AE AT  2015-01-01  23590 \n",
       "6 A    EUR_AE AT  2020-01-01  25882 "
      ]
     },
     "metadata": {},
     "output_type": "display_data"
    },
    {
     "data": {
      "text/html": [
       "<table class=\"dataframe\">\n",
       "<caption>A tibble: 6 × 2</caption>\n",
       "<thead>\n",
       "\t<tr><th scope=col>geo</th><th scope=col>values</th></tr>\n",
       "\t<tr><th scope=col>&lt;chr&gt;</th><th scope=col>&lt;dbl&gt;</th></tr>\n",
       "</thead>\n",
       "<tbody>\n",
       "\t<tr><td>AT</td><td>25882</td></tr>\n",
       "\t<tr><td>BE</td><td>22930</td></tr>\n",
       "\t<tr><td>BG</td><td> 4775</td></tr>\n",
       "\t<tr><td>CY</td><td>17658</td></tr>\n",
       "\t<tr><td>CZ</td><td> 8426</td></tr>\n",
       "\t<tr><td>DE</td><td>23596</td></tr>\n",
       "</tbody>\n",
       "</table>\n"
      ],
      "text/latex": [
       "A tibble: 6 × 2\n",
       "\\begin{tabular}{ll}\n",
       " geo & values\\\\\n",
       " <chr> & <dbl>\\\\\n",
       "\\hline\n",
       "\t AT & 25882\\\\\n",
       "\t BE & 22930\\\\\n",
       "\t BG &  4775\\\\\n",
       "\t CY & 17658\\\\\n",
       "\t CZ &  8426\\\\\n",
       "\t DE & 23596\\\\\n",
       "\\end{tabular}\n"
      ],
      "text/markdown": [
       "\n",
       "A tibble: 6 × 2\n",
       "\n",
       "| geo &lt;chr&gt; | values &lt;dbl&gt; |\n",
       "|---|---|\n",
       "| AT | 25882 |\n",
       "| BE | 22930 |\n",
       "| BG |  4775 |\n",
       "| CY | 17658 |\n",
       "| CZ |  8426 |\n",
       "| DE | 23596 |\n",
       "\n"
      ],
      "text/plain": [
       "  geo values\n",
       "1 AT  25882 \n",
       "2 BE  22930 \n",
       "3 BG   4775 \n",
       "4 CY  17658 \n",
       "5 CZ   8426 \n",
       "6 DE  23596 "
      ]
     },
     "metadata": {},
     "output_type": "display_data"
    }
   ],
   "source": [
    "con <- get_eurostat(\"hbs_exp_t111\")\n",
    "\n",
    "head(con)\n",
    "\n",
    "con <- con[con$unit == \"EUR_AE\", ] # euro expenditure per capita\n",
    "con <- con[con$TIME_PERIOD == as.Date(\"2020-01-01\"), ]\n",
    "con <- con[!grepl(\"^(EU|EA)\", con$geo), ]\n",
    "\n",
    "con$freq <- NULL\n",
    "con$TIME_PERIOD <- NULL\n",
    "con$unit <- NULL\n",
    "\n",
    "head(con)"
   ]
  },
  {
   "cell_type": "markdown",
   "id": "9bf3450d",
   "metadata": {},
   "source": [
    "sloučení s daty o HDP:"
   ]
  },
  {
   "cell_type": "code",
   "execution_count": 6,
   "id": "9d708d4d-ad57-4ef8-8474-d823d5155d4e",
   "metadata": {
    "vscode": {
     "languageId": "r"
    }
   },
   "outputs": [
    {
     "data": {
      "text/html": [
       "<table class=\"dataframe\">\n",
       "<caption>A data.frame: 6 × 3</caption>\n",
       "<thead>\n",
       "\t<tr><th></th><th scope=col>geo</th><th scope=col>gdp</th><th scope=col>consumption</th></tr>\n",
       "\t<tr><th></th><th scope=col>&lt;chr&gt;</th><th scope=col>&lt;dbl&gt;</th><th scope=col>&lt;dbl&gt;</th></tr>\n",
       "</thead>\n",
       "<tbody>\n",
       "\t<tr><th scope=row>1</th><td>AT</td><td>42720</td><td>25882</td></tr>\n",
       "\t<tr><th scope=row>2</th><td>BE</td><td>39910</td><td>22930</td></tr>\n",
       "\t<tr><th scope=row>3</th><td>BG</td><td> 8880</td><td> 4775</td></tr>\n",
       "\t<tr><th scope=row>4</th><td>CY</td><td>24760</td><td>17658</td></tr>\n",
       "\t<tr><th scope=row>5</th><td>CZ</td><td>20170</td><td> 8426</td></tr>\n",
       "\t<tr><th scope=row>6</th><td>DE</td><td>40930</td><td>23596</td></tr>\n",
       "</tbody>\n",
       "</table>\n"
      ],
      "text/latex": [
       "A data.frame: 6 × 3\n",
       "\\begin{tabular}{r|lll}\n",
       "  & geo & gdp & consumption\\\\\n",
       "  & <chr> & <dbl> & <dbl>\\\\\n",
       "\\hline\n",
       "\t1 & AT & 42720 & 25882\\\\\n",
       "\t2 & BE & 39910 & 22930\\\\\n",
       "\t3 & BG &  8880 &  4775\\\\\n",
       "\t4 & CY & 24760 & 17658\\\\\n",
       "\t5 & CZ & 20170 &  8426\\\\\n",
       "\t6 & DE & 40930 & 23596\\\\\n",
       "\\end{tabular}\n"
      ],
      "text/markdown": [
       "\n",
       "A data.frame: 6 × 3\n",
       "\n",
       "| <!--/--> | geo &lt;chr&gt; | gdp &lt;dbl&gt; | consumption &lt;dbl&gt; |\n",
       "|---|---|---|---|\n",
       "| 1 | AT | 42720 | 25882 |\n",
       "| 2 | BE | 39910 | 22930 |\n",
       "| 3 | BG |  8880 |  4775 |\n",
       "| 4 | CY | 24760 | 17658 |\n",
       "| 5 | CZ | 20170 |  8426 |\n",
       "| 6 | DE | 40930 | 23596 |\n",
       "\n"
      ],
      "text/plain": [
       "  geo gdp   consumption\n",
       "1 AT  42720 25882      \n",
       "2 BE  39910 22930      \n",
       "3 BG   8880  4775      \n",
       "4 CY  24760 17658      \n",
       "5 CZ  20170  8426      \n",
       "6 DE  40930 23596      "
      ]
     },
     "metadata": {},
     "output_type": "display_data"
    }
   ],
   "source": [
    "data <- merge(data, con, by=\"geo\", all=FALSE)\n",
    "data <- rename(data, gdp = values.x)\n",
    "data <- rename(data, consumption = values.y)\n",
    "\n",
    "head(data)"
   ]
  },
  {
   "cell_type": "markdown",
   "id": "514b7785",
   "metadata": {},
   "source": [
    "Důlěžité vlastnosti a veličiny výdajů obyvatel:"
   ]
  },
  {
   "cell_type": "code",
   "execution_count": 7,
   "id": "b0050b48",
   "metadata": {
    "vscode": {
     "languageId": "r"
    }
   },
   "outputs": [
    {
     "data": {
      "text/plain": [
       "   Min. 1st Qu.  Median    Mean 3rd Qu.    Max. \n",
       "   4515    8068   11922   14846   22220   43306 "
      ]
     },
     "metadata": {},
     "output_type": "display_data"
    },
    {
     "name": "stdout",
     "output_type": "stream",
     "text": [
      "\n",
      "Variance: 93662997\n",
      "Standard dev: 9677.965"
     ]
    },
    {
     "data": {
      "image/png": "[encoded data removed]",
      "text/plain": [
       "Plot with title “Histogram of data$consumption”"
      ]
     },
     "metadata": {
      "image/png": {
       "height": 420,
       "width": 420
      }
     },
     "output_type": "display_data"
    },
    {
     "data": {
      "image/png": "[encoded data removed]",
      "text/plain": [
       "plot without title"
      ]
     },
     "metadata": {
      "image/png": {
       "height": 420,
       "width": 420
      }
     },
     "output_type": "display_data"
    }
   ],
   "source": [
    "summary(data$consumption)\n",
    "\n",
    "cat(\"\\nVariance:\", var(data$consumption))\n",
    "cat(\"\\nStandard dev:\", sd(data$consumption))\n",
    "\n",
    "hist(data$consumption)\n",
    "\n",
    "boxplot(data$consumption)"
   ]
  },
  {
   "cell_type": "markdown",
   "id": "a2a34af1",
   "metadata": {},
   "source": [
    "Jak je vidět z výstupu výše, tak průměrné výdaje na jednoho obyvatele je 14 846 euro za rok. Minimum je 4 515 a maximum 43 306.\n",
    "\n",
    "Je zajímavé, že tato veličina má relativně velkou směrodatnou odchylku - 9 677. Je to zhruba 68% průměrné hodnoty.\n",
    "\n",
    "Je více zemí, ve kterých mají obytatelé spíše podprůměrné výdaje než nadprůměrné.\n",
    "\n",
    "Vykreslíme si ještě graf závislosti HDP na této veličině."
   ]
  },
  {
   "cell_type": "code",
   "execution_count": 8,
   "id": "59f5a238",
   "metadata": {
    "vscode": {
     "languageId": "r"
    }
   },
   "outputs": [
    {
     "data": {
      "image/png": "[encoded data removed]",
      "text/plain": [
       "plot without title"
      ]
     },
     "metadata": {
      "image/png": {
       "height": 420,
       "width": 420
      }
     },
     "output_type": "display_data"
    }
   ],
   "source": [
    "plot(data$consumption, data$gdp)\n",
    "\n",
    "# ggplot(data, aes(x=consumption, y=gdp, color=uses_eur)) + geom_point() + theme_minimal()"
   ]
  },
  {
   "cell_type": "markdown",
   "id": "f28fad12",
   "metadata": {},
   "source": [
    "Jak je vidět z grafu, tak HDP je vysoce korelované s průměrnými výdaji obyvatel."
   ]
  },
  {
   "cell_type": "code",
   "execution_count": 9,
   "id": "21a0ed67",
   "metadata": {
    "vscode": {
     "languageId": "r"
    }
   },
   "outputs": [
    {
     "data": {
      "text/plain": [
       "\n",
       "Call:\n",
       "lm(formula = data$gdp ~ 0 + data$consumption)\n",
       "\n",
       "Residuals:\n",
       "    Min      1Q  Median      3Q     Max \n",
       "-7843.9 -4146.4 -1845.7   922.8 22269.3 \n",
       "\n",
       "Coefficients:\n",
       "                 Estimate Std. Error t value Pr(>|t|)    \n",
       "data$consumption  1.84641    0.06306   29.28   <2e-16 ***\n",
       "---\n",
       "Signif. codes:  0 ‘***’ 0.001 ‘**’ 0.01 ‘*’ 0.05 ‘.’ 0.1 ‘ ’ 1\n",
       "\n",
       "Residual standard error: 5775 on 26 degrees of freedom\n",
       "Multiple R-squared:  0.9706,\tAdjusted R-squared:  0.9694 \n",
       "F-statistic: 857.4 on 1 and 26 DF,  p-value: < 2.2e-16\n"
      ]
     },
     "metadata": {},
     "output_type": "display_data"
    }
   ],
   "source": [
    "model <- lm(data$gdp ~ 0 + data$consumption)\n",
    "summary(model)"
   ]
  },
  {
   "cell_type": "markdown",
   "id": "f0dcb5f6",
   "metadata": {},
   "source": [
    "Jak je vidět z výstupu výše, tak jestliže stoupne výdaj člověka o 1 euro, tak odhad HDP na jednoho člověka stoupne zhruba o 1.85 eura."
   ]
  },
  {
   "cell_type": "markdown",
   "id": "673adbb7-520c-4b5f-8527-513f3a432839",
   "metadata": {},
   "source": [
    "## Výdaje státu na obyvatele\n",
    "\n",
    "V eurostatu jsme nikde nenašli výdaje státu přepočítané na jednoho obyvatele, takže si to spočítáme sami. Najdeme si nejdříve počet obyvatel a poté celkové výdaje daného státu.\n",
    "\n",
    "Získání počtu obyvatel států v roce 2020:\n",
    "\n",
    "https://ec.europa.eu/eurostat/databrowser/view/nama_10_pe/default/table?lang=en"
   ]
  },
  {
   "cell_type": "code",
   "execution_count": 10,
   "id": "e3032972-bbb0-42fa-8a02-4d67dab69c89",
   "metadata": {
    "vscode": {
     "languageId": "r"
    }
   },
   "outputs": [
    {
     "name": "stderr",
     "output_type": "stream",
     "text": [
      "Table nama_10_pe cached at /tmp/Rtmpi26MSj/eurostat/4436acf1fe8ef369a41949c4574cf81d.rds\n",
      "\n"
     ]
    },
    {
     "data": {
      "text/html": [
       "<table class=\"dataframe\">\n",
       "<caption>A tibble: 6 × 2</caption>\n",
       "<thead>\n",
       "\t<tr><th scope=col>geo</th><th scope=col>values</th></tr>\n",
       "\t<tr><th scope=col>&lt;chr&gt;</th><th scope=col>&lt;dbl&gt;</th></tr>\n",
       "</thead>\n",
       "<tbody>\n",
       "\t<tr><td>AL</td><td> 2837850</td></tr>\n",
       "\t<tr><td>AT</td><td> 8916850</td></tr>\n",
       "\t<tr><td>BE</td><td>11539000</td></tr>\n",
       "\t<tr><td>BG</td><td> 6934020</td></tr>\n",
       "\t<tr><td>CH</td><td> 8638170</td></tr>\n",
       "\t<tr><td>CY</td><td>  892000</td></tr>\n",
       "</tbody>\n",
       "</table>\n"
      ],
      "text/latex": [
       "A tibble: 6 × 2\n",
       "\\begin{tabular}{ll}\n",
       " geo & values\\\\\n",
       " <chr> & <dbl>\\\\\n",
       "\\hline\n",
       "\t AL &  2837850\\\\\n",
       "\t AT &  8916850\\\\\n",
       "\t BE & 11539000\\\\\n",
       "\t BG &  6934020\\\\\n",
       "\t CH &  8638170\\\\\n",
       "\t CY &   892000\\\\\n",
       "\\end{tabular}\n"
      ],
      "text/markdown": [
       "\n",
       "A tibble: 6 × 2\n",
       "\n",
       "| geo &lt;chr&gt; | values &lt;dbl&gt; |\n",
       "|---|---|\n",
       "| AL |  2837850 |\n",
       "| AT |  8916850 |\n",
       "| BE | 11539000 |\n",
       "| BG |  6934020 |\n",
       "| CH |  8638170 |\n",
       "| CY |   892000 |\n",
       "\n"
      ],
      "text/plain": [
       "  geo values  \n",
       "1 AL   2837850\n",
       "2 AT   8916850\n",
       "3 BE  11539000\n",
       "4 BG   6934020\n",
       "5 CH   8638170\n",
       "6 CY    892000"
      ]
     },
     "metadata": {},
     "output_type": "display_data"
    }
   ],
   "source": [
    "pop <- get_eurostat(\"nama_10_pe\")\n",
    "\n",
    "pop <- pop[pop$unit == \"THS_PER\", ] # in thousands\n",
    "pop <- pop[pop$TIME_PERIOD == as.Date(\"2020-01-01\"), ]\n",
    "pop <- pop[!grepl(\"^(EU|EA)\", pop$geo), ]\n",
    "pop <- pop[pop$na_item == \"POP_NC\", ] # inhabitants per country\n",
    "\n",
    "pop$unit <- NULL\n",
    "pop$freq <- NULL\n",
    "pop$TIME_PERIOD <- NULL\n",
    "pop$na_item <- NULL\n",
    "\n",
    "pop$values <- pop$values * 1000\n",
    "\n",
    "head(pop)"
   ]
  },
  {
   "cell_type": "markdown",
   "id": "6c1f4143-53df-422a-9fef-4a648d4b552b",
   "metadata": {},
   "source": [
    "výdaje státu celkem:\n",
    "\n",
    "https://ec.europa.eu/eurostat/databrowser/view/gov_10a_main$defaultview/default/table?lang=en"
   ]
  },
  {
   "cell_type": "code",
   "execution_count": 11,
   "id": "bbdac54e-1567-41a3-ab74-ffdffce8c828",
   "metadata": {
    "vscode": {
     "languageId": "r"
    }
   },
   "outputs": [
    {
     "name": "stderr",
     "output_type": "stream",
     "text": [
      "Table gov_10a_main cached at /tmp/Rtmpi26MSj/eurostat/b673bbe65b86fdb5807ff78d555f6e7c.rds\n",
      "\n"
     ]
    },
    {
     "data": {
      "text/html": [
       "<table class=\"dataframe\">\n",
       "<caption>A tibble: 6 × 2</caption>\n",
       "<thead>\n",
       "\t<tr><th scope=col>geo</th><th scope=col>values</th></tr>\n",
       "\t<tr><th scope=col>&lt;chr&gt;</th><th scope=col>&lt;dbl&gt;</th></tr>\n",
       "</thead>\n",
       "<tbody>\n",
       "\t<tr><td>AT</td><td>216367000000</td></tr>\n",
       "\t<tr><td>BE</td><td>271252900000</td></tr>\n",
       "\t<tr><td>BG</td><td> 25574400000</td></tr>\n",
       "\t<tr><td>CH</td><td>249450700000</td></tr>\n",
       "\t<tr><td>CY</td><td>  9772900000</td></tr>\n",
       "\t<tr><td>CZ</td><td>101900700000</td></tr>\n",
       "</tbody>\n",
       "</table>\n"
      ],
      "text/latex": [
       "A tibble: 6 × 2\n",
       "\\begin{tabular}{ll}\n",
       " geo & values\\\\\n",
       " <chr> & <dbl>\\\\\n",
       "\\hline\n",
       "\t AT & 216367000000\\\\\n",
       "\t BE & 271252900000\\\\\n",
       "\t BG &  25574400000\\\\\n",
       "\t CH & 249450700000\\\\\n",
       "\t CY &   9772900000\\\\\n",
       "\t CZ & 101900700000\\\\\n",
       "\\end{tabular}\n"
      ],
      "text/markdown": [
       "\n",
       "A tibble: 6 × 2\n",
       "\n",
       "| geo &lt;chr&gt; | values &lt;dbl&gt; |\n",
       "|---|---|\n",
       "| AT | 216367000000 |\n",
       "| BE | 271252900000 |\n",
       "| BG |  25574400000 |\n",
       "| CH | 249450700000 |\n",
       "| CY |   9772900000 |\n",
       "| CZ | 101900700000 |\n",
       "\n"
      ],
      "text/plain": [
       "  geo values      \n",
       "1 AT  216367000000\n",
       "2 BE  271252900000\n",
       "3 BG   25574400000\n",
       "4 CH  249450700000\n",
       "5 CY    9772900000\n",
       "6 CZ  101900700000"
      ]
     },
     "metadata": {},
     "output_type": "display_data"
    }
   ],
   "source": [
    "ge <- get_eurostat(\"gov_10a_main\")\n",
    "ge <- ge[ge$unit == \"MIO_EUR\", ] # milions EUR\n",
    "ge <- ge[ge$TIME_PERIOD == as.Date(\"2020-01-01\"), ]\n",
    "ge <- ge[ge$sector == \"S13\", ] # general government\n",
    "ge <- ge[ge$na_item == \"TE\", ] # Total general government expenditure\n",
    "ge <- ge[!grepl(\"^(EU|EA)\", ge$geo), ]\n",
    "\n",
    "ge$unit <- NULL\n",
    "ge$freq <- NULL\n",
    "ge$TIME_PERIOD <- NULL\n",
    "ge$sector <- NULL\n",
    "ge$na_item <- NULL\n",
    "\n",
    "ge$values <- ge$values * 1000000\n",
    "\n",
    "head(ge)"
   ]
  },
  {
   "cell_type": "markdown",
   "id": "75dc5544-10f1-498c-9b4b-c56976352a02",
   "metadata": {},
   "source": [
    "Přepočet na obyvatele:"
   ]
  },
  {
   "cell_type": "code",
   "execution_count": 12,
   "id": "54631f8e-0d01-4fa7-8820-5e964d26e743",
   "metadata": {
    "vscode": {
     "languageId": "r"
    }
   },
   "outputs": [
    {
     "data": {
      "text/html": [
       "<table class=\"dataframe\">\n",
       "<caption>A data.frame: 6 × 2</caption>\n",
       "<thead>\n",
       "\t<tr><th></th><th scope=col>geo</th><th scope=col>ge_exp</th></tr>\n",
       "\t<tr><th></th><th scope=col>&lt;chr&gt;</th><th scope=col>&lt;dbl&gt;</th></tr>\n",
       "</thead>\n",
       "<tbody>\n",
       "\t<tr><th scope=row>1</th><td>AT</td><td>24264.959</td></tr>\n",
       "\t<tr><th scope=row>2</th><td>BE</td><td>23507.488</td></tr>\n",
       "\t<tr><th scope=row>3</th><td>BG</td><td> 3688.250</td></tr>\n",
       "\t<tr><th scope=row>4</th><td>CH</td><td>28877.725</td></tr>\n",
       "\t<tr><th scope=row>5</th><td>CY</td><td>10956.166</td></tr>\n",
       "\t<tr><th scope=row>6</th><td>CZ</td><td> 9523.288</td></tr>\n",
       "</tbody>\n",
       "</table>\n"
      ],
      "text/latex": [
       "A data.frame: 6 × 2\n",
       "\\begin{tabular}{r|ll}\n",
       "  & geo & ge\\_exp\\\\\n",
       "  & <chr> & <dbl>\\\\\n",
       "\\hline\n",
       "\t1 & AT & 24264.959\\\\\n",
       "\t2 & BE & 23507.488\\\\\n",
       "\t3 & BG &  3688.250\\\\\n",
       "\t4 & CH & 28877.725\\\\\n",
       "\t5 & CY & 10956.166\\\\\n",
       "\t6 & CZ &  9523.288\\\\\n",
       "\\end{tabular}\n"
      ],
      "text/markdown": [
       "\n",
       "A data.frame: 6 × 2\n",
       "\n",
       "| <!--/--> | geo &lt;chr&gt; | ge_exp &lt;dbl&gt; |\n",
       "|---|---|---|\n",
       "| 1 | AT | 24264.959 |\n",
       "| 2 | BE | 23507.488 |\n",
       "| 3 | BG |  3688.250 |\n",
       "| 4 | CH | 28877.725 |\n",
       "| 5 | CY | 10956.166 |\n",
       "| 6 | CZ |  9523.288 |\n",
       "\n"
      ],
      "text/plain": [
       "  geo ge_exp   \n",
       "1 AT  24264.959\n",
       "2 BE  23507.488\n",
       "3 BG   3688.250\n",
       "4 CH  28877.725\n",
       "5 CY  10956.166\n",
       "6 CZ   9523.288"
      ]
     },
     "metadata": {},
     "output_type": "display_data"
    }
   ],
   "source": [
    "exp <- merge(ge, pop, by=\"geo\", all=FALSE)\n",
    "exp$ge_exp <- exp$values.x / exp$values.y\n",
    "\n",
    "exp$values.x <- NULL\n",
    "exp$values.y <- NULL\n",
    "\n",
    "head(exp)"
   ]
  },
  {
   "cell_type": "markdown",
   "id": "243ba086",
   "metadata": {},
   "source": [
    "Sloučení s daty o HDP:"
   ]
  },
  {
   "cell_type": "code",
   "execution_count": 13,
   "id": "9d8fa60e-0c2c-4728-aa6b-11abacf37d3f",
   "metadata": {
    "vscode": {
     "languageId": "r"
    }
   },
   "outputs": [
    {
     "data": {
      "text/html": [
       "<table class=\"dataframe\">\n",
       "<caption>A data.frame: 6 × 4</caption>\n",
       "<thead>\n",
       "\t<tr><th></th><th scope=col>geo</th><th scope=col>gdp</th><th scope=col>consumption</th><th scope=col>gov_exp</th></tr>\n",
       "\t<tr><th></th><th scope=col>&lt;chr&gt;</th><th scope=col>&lt;dbl&gt;</th><th scope=col>&lt;dbl&gt;</th><th scope=col>&lt;dbl&gt;</th></tr>\n",
       "</thead>\n",
       "<tbody>\n",
       "\t<tr><th scope=row>1</th><td>AT</td><td>42720</td><td>25882</td><td>24264.959</td></tr>\n",
       "\t<tr><th scope=row>2</th><td>BE</td><td>39910</td><td>22930</td><td>23507.488</td></tr>\n",
       "\t<tr><th scope=row>3</th><td>BG</td><td> 8880</td><td> 4775</td><td> 3688.250</td></tr>\n",
       "\t<tr><th scope=row>4</th><td>CY</td><td>24760</td><td>17658</td><td>10956.166</td></tr>\n",
       "\t<tr><th scope=row>5</th><td>CZ</td><td>20170</td><td> 8426</td><td> 9523.288</td></tr>\n",
       "\t<tr><th scope=row>6</th><td>DE</td><td>40930</td><td>23596</td><td>20653.708</td></tr>\n",
       "</tbody>\n",
       "</table>\n"
      ],
      "text/latex": [
       "A data.frame: 6 × 4\n",
       "\\begin{tabular}{r|llll}\n",
       "  & geo & gdp & consumption & gov\\_exp\\\\\n",
       "  & <chr> & <dbl> & <dbl> & <dbl>\\\\\n",
       "\\hline\n",
       "\t1 & AT & 42720 & 25882 & 24264.959\\\\\n",
       "\t2 & BE & 39910 & 22930 & 23507.488\\\\\n",
       "\t3 & BG &  8880 &  4775 &  3688.250\\\\\n",
       "\t4 & CY & 24760 & 17658 & 10956.166\\\\\n",
       "\t5 & CZ & 20170 &  8426 &  9523.288\\\\\n",
       "\t6 & DE & 40930 & 23596 & 20653.708\\\\\n",
       "\\end{tabular}\n"
      ],
      "text/markdown": [
       "\n",
       "A data.frame: 6 × 4\n",
       "\n",
       "| <!--/--> | geo &lt;chr&gt; | gdp &lt;dbl&gt; | consumption &lt;dbl&gt; | gov_exp &lt;dbl&gt; |\n",
       "|---|---|---|---|---|\n",
       "| 1 | AT | 42720 | 25882 | 24264.959 |\n",
       "| 2 | BE | 39910 | 22930 | 23507.488 |\n",
       "| 3 | BG |  8880 |  4775 |  3688.250 |\n",
       "| 4 | CY | 24760 | 17658 | 10956.166 |\n",
       "| 5 | CZ | 20170 |  8426 |  9523.288 |\n",
       "| 6 | DE | 40930 | 23596 | 20653.708 |\n",
       "\n"
      ],
      "text/plain": [
       "  geo gdp   consumption gov_exp  \n",
       "1 AT  42720 25882       24264.959\n",
       "2 BE  39910 22930       23507.488\n",
       "3 BG   8880  4775        3688.250\n",
       "4 CY  24760 17658       10956.166\n",
       "5 CZ  20170  8426        9523.288\n",
       "6 DE  40930 23596       20653.708"
      ]
     },
     "metadata": {},
     "output_type": "display_data"
    }
   ],
   "source": [
    "data <- merge(data, exp, by=\"geo\", all=FALSE)\n",
    "data <- rename(data, gov_exp = ge_exp)\n",
    "\n",
    "head(data)"
   ]
  },
  {
   "cell_type": "markdown",
   "id": "d4004e06",
   "metadata": {},
   "source": [
    "Důležité vlastnosti, veličiny a výdaje státu na jednoho obyvatele:"
   ]
  },
  {
   "cell_type": "code",
   "execution_count": 14,
   "id": "6372e0f6",
   "metadata": {
    "vscode": {
     "languageId": "r"
    }
   },
   "outputs": [
    {
     "data": {
      "text/plain": [
       "   Min. 1st Qu.  Median    Mean 3rd Qu.    Max. \n",
       "   3688    7448   10956   14144   20844   48008 "
      ]
     },
     "metadata": {},
     "output_type": "display_data"
    },
    {
     "name": "stdout",
     "output_type": "stream",
     "text": [
      "\n",
      "Variance: 99553530\n",
      "Standard deviation: 9977.652"
     ]
    },
    {
     "data": {
      "image/png": "[encoded data removed]",
      "text/plain": [
       "Plot with title “Histogram of data$gov_exp”"
      ]
     },
     "metadata": {
      "image/png": {
       "height": 420,
       "width": 420
      }
     },
     "output_type": "display_data"
    },
    {
     "data": {
      "image/png": "[encoded data removed]",
      "text/plain": [
       "plot without title"
      ]
     },
     "metadata": {
      "image/png": {
       "height": 420,
       "width": 420
      }
     },
     "output_type": "display_data"
    }
   ],
   "source": [
    "summary(data$gov_exp)\n",
    "\n",
    "cat(\"\\nVariance:\", var(data$gov_exp))\n",
    "cat(\"\\nStandard deviation:\", sd(data$gov_exp))\n",
    "\n",
    "hist(data$gov_exp)\n",
    "boxplot(data$gov_exp)"
   ]
  },
  {
   "cell_type": "markdown",
   "id": "f1890c92",
   "metadata": {},
   "source": [
    "Jak je vidět z výstupu výše, tak průměrná hodnota výdaje státu na jednoho obyvatele je 14 144 euro na rok. Myslím si, že tento údaj je velice zajímavý.\n",
    "\n",
    "V Česku průměrné výdaje jednoho člověka v roce 2020 bez nákladů na bydlení byly 8 426 euro. Stát ten rok měl výdaje v přepočtu na jednoho obyvatele 9 523,288 euro. Je ale nutné myslet na to, že v tomto roce byla pandemie, takže hodnoty budou nejspíše velice odlišné od normálního fungování státu.\n",
    "\n",
    "I tato veličina má relativně velkou směrodatnou odchylku v poměru k průměrné hodnotě.\n",
    "\n",
    "Opět je zde vidět, že je více států, ve kterých jsou výdaje na člověka menší než průměr než států, ve kterých je průměrné výdaje větší než průměr. Zároveň z boxplotu je vidět jeden outlier, který by mohl velice ovlivnit výsledky regrese.\n",
    "\n",
    "Vykreslíme si znovu opět závislost HDP na této veličině:"
   ]
  },
  {
   "cell_type": "code",
   "execution_count": 15,
   "id": "b3f14886-95e0-4332-a4cd-b39a5f2db1ad",
   "metadata": {
    "vscode": {
     "languageId": "r"
    }
   },
   "outputs": [
    {
     "data": {
      "image/png": "[encoded data removed]",
      "text/plain": [
       "plot without title"
      ]
     },
     "metadata": {
      "image/png": {
       "height": 420,
       "width": 420
      }
     },
     "output_type": "display_data"
    }
   ],
   "source": [
    "plot(data$gov_exp, data$gdp)"
   ]
  },
  {
   "cell_type": "markdown",
   "id": "22ea78f2",
   "metadata": {},
   "source": [
    "Z grafu výše je opět vidět velice silná korelace HDP a výdajů státu.\n",
    "\n",
    "Korelační koeficient:"
   ]
  },
  {
   "cell_type": "code",
   "execution_count": 16,
   "id": "950afb32",
   "metadata": {
    "vscode": {
     "languageId": "r"
    }
   },
   "outputs": [
    {
     "data": {
      "text/html": [
       "0.98313859705663"
      ],
      "text/latex": [
       "0.98313859705663"
      ],
      "text/markdown": [
       "0.98313859705663"
      ],
      "text/plain": [
       "[1] 0.9831386"
      ]
     },
     "metadata": {},
     "output_type": "display_data"
    },
    {
     "data": {
      "text/plain": [
       "\n",
       "Call:\n",
       "lm(formula = data$gdp ~ 0 + data$gov_exp)\n",
       "\n",
       "Residuals:\n",
       "    Min      1Q  Median      3Q     Max \n",
       "-7209.5 -1690.6   727.7  2553.5  7991.5 \n",
       "\n",
       "Coefficients:\n",
       "             Estimate Std. Error t value Pr(>|t|)    \n",
       "data$gov_exp  1.96298    0.04391    44.7   <2e-16 ***\n",
       "---\n",
       "Signif. codes:  0 ‘***’ 0.001 ‘**’ 0.01 ‘*’ 0.05 ‘.’ 0.1 ‘ ’ 1\n",
       "\n",
       "Residual standard error: 3619 on 22 degrees of freedom\n",
       "Multiple R-squared:  0.9891,\tAdjusted R-squared:  0.9886 \n",
       "F-statistic:  1998 on 1 and 22 DF,  p-value: < 2.2e-16\n"
      ]
     },
     "metadata": {},
     "output_type": "display_data"
    }
   ],
   "source": [
    "cor(data$gov_exp, data$gdp)\n",
    "\n",
    "model <- lm(data$gdp ~ 0 + data$gov_exp)\n",
    "summary(model)"
   ]
  },
  {
   "cell_type": "markdown",
   "id": "1208d586",
   "metadata": {},
   "source": [
    "Z výstupu výše je vidět, že korelační koeficient je vysoký, tak jak jsme předpovídali z grafu.\n",
    "\n",
    "Z jednoduchého modelu lineární regrese je vidět, že pokud stát má výdaje na jednoho člověka o 1 euro větší, tak HDP zhruba vzroste o 1.96 eura."
   ]
  },
  {
   "cell_type": "markdown",
   "id": "5b8e9ba3-3fd1-4c82-a7fd-31ac70714148",
   "metadata": {},
   "source": [
    "## Inflace\n",
    "\n",
    "https://ec.europa.eu/eurostat/databrowser/view/tec00118/default/table?lang=en"
   ]
  },
  {
   "cell_type": "code",
   "execution_count": 17,
   "id": "34ed2b32-dd4a-4d90-814b-f16a3dbef057",
   "metadata": {
    "vscode": {
     "languageId": "r"
    }
   },
   "outputs": [
    {
     "name": "stderr",
     "output_type": "stream",
     "text": [
      "Table tec00118 cached at /tmp/Rtmpi26MSj/eurostat/24d43c0eedea4d65696b20383dc10b15.rds\n",
      "\n"
     ]
    },
    {
     "data": {
      "text/html": [
       "<table class=\"dataframe\">\n",
       "<caption>A tibble: 6 × 6</caption>\n",
       "<thead>\n",
       "\t<tr><th scope=col>freq</th><th scope=col>unit</th><th scope=col>coicop</th><th scope=col>geo</th><th scope=col>TIME_PERIOD</th><th scope=col>values</th></tr>\n",
       "\t<tr><th scope=col>&lt;chr&gt;</th><th scope=col>&lt;chr&gt;</th><th scope=col>&lt;chr&gt;</th><th scope=col>&lt;chr&gt;</th><th scope=col>&lt;date&gt;</th><th scope=col>&lt;dbl&gt;</th></tr>\n",
       "</thead>\n",
       "<tbody>\n",
       "\t<tr><td>A</td><td>RCH_A_AVG</td><td>CP00</td><td>AL</td><td>2017-01-01</td><td>3.2</td></tr>\n",
       "\t<tr><td>A</td><td>RCH_A_AVG</td><td>CP00</td><td>AL</td><td>2018-01-01</td><td>1.8</td></tr>\n",
       "\t<tr><td>A</td><td>RCH_A_AVG</td><td>CP00</td><td>AL</td><td>2019-01-01</td><td>1.7</td></tr>\n",
       "\t<tr><td>A</td><td>RCH_A_AVG</td><td>CP00</td><td>AL</td><td>2020-01-01</td><td>2.2</td></tr>\n",
       "\t<tr><td>A</td><td>RCH_A_AVG</td><td>CP00</td><td>AL</td><td>2021-01-01</td><td>2.3</td></tr>\n",
       "\t<tr><td>A</td><td>RCH_A_AVG</td><td>CP00</td><td>AL</td><td>2022-01-01</td><td>6.6</td></tr>\n",
       "</tbody>\n",
       "</table>\n"
      ],
      "text/latex": [
       "A tibble: 6 × 6\n",
       "\\begin{tabular}{llllll}\n",
       " freq & unit & coicop & geo & TIME\\_PERIOD & values\\\\\n",
       " <chr> & <chr> & <chr> & <chr> & <date> & <dbl>\\\\\n",
       "\\hline\n",
       "\t A & RCH\\_A\\_AVG & CP00 & AL & 2017-01-01 & 3.2\\\\\n",
       "\t A & RCH\\_A\\_AVG & CP00 & AL & 2018-01-01 & 1.8\\\\\n",
       "\t A & RCH\\_A\\_AVG & CP00 & AL & 2019-01-01 & 1.7\\\\\n",
       "\t A & RCH\\_A\\_AVG & CP00 & AL & 2020-01-01 & 2.2\\\\\n",
       "\t A & RCH\\_A\\_AVG & CP00 & AL & 2021-01-01 & 2.3\\\\\n",
       "\t A & RCH\\_A\\_AVG & CP00 & AL & 2022-01-01 & 6.6\\\\\n",
       "\\end{tabular}\n"
      ],
      "text/markdown": [
       "\n",
       "A tibble: 6 × 6\n",
       "\n",
       "| freq &lt;chr&gt; | unit &lt;chr&gt; | coicop &lt;chr&gt; | geo &lt;chr&gt; | TIME_PERIOD &lt;date&gt; | values &lt;dbl&gt; |\n",
       "|---|---|---|---|---|---|\n",
       "| A | RCH_A_AVG | CP00 | AL | 2017-01-01 | 3.2 |\n",
       "| A | RCH_A_AVG | CP00 | AL | 2018-01-01 | 1.8 |\n",
       "| A | RCH_A_AVG | CP00 | AL | 2019-01-01 | 1.7 |\n",
       "| A | RCH_A_AVG | CP00 | AL | 2020-01-01 | 2.2 |\n",
       "| A | RCH_A_AVG | CP00 | AL | 2021-01-01 | 2.3 |\n",
       "| A | RCH_A_AVG | CP00 | AL | 2022-01-01 | 6.6 |\n",
       "\n"
      ],
      "text/plain": [
       "  freq unit      coicop geo TIME_PERIOD values\n",
       "1 A    RCH_A_AVG CP00   AL  2017-01-01  3.2   \n",
       "2 A    RCH_A_AVG CP00   AL  2018-01-01  1.8   \n",
       "3 A    RCH_A_AVG CP00   AL  2019-01-01  1.7   \n",
       "4 A    RCH_A_AVG CP00   AL  2020-01-01  2.2   \n",
       "5 A    RCH_A_AVG CP00   AL  2021-01-01  2.3   \n",
       "6 A    RCH_A_AVG CP00   AL  2022-01-01  6.6   "
      ]
     },
     "metadata": {},
     "output_type": "display_data"
    },
    {
     "data": {
      "text/html": [
       "<table class=\"dataframe\">\n",
       "<caption>A tibble: 6 × 2</caption>\n",
       "<thead>\n",
       "\t<tr><th scope=col>geo</th><th scope=col>values</th></tr>\n",
       "\t<tr><th scope=col>&lt;chr&gt;</th><th scope=col>&lt;dbl&gt;</th></tr>\n",
       "</thead>\n",
       "<tbody>\n",
       "\t<tr><td>AL</td><td> 2.2</td></tr>\n",
       "\t<tr><td>AT</td><td> 1.4</td></tr>\n",
       "\t<tr><td>BE</td><td> 0.4</td></tr>\n",
       "\t<tr><td>BG</td><td> 1.2</td></tr>\n",
       "\t<tr><td>CH</td><td>-0.8</td></tr>\n",
       "\t<tr><td>CY</td><td>-1.1</td></tr>\n",
       "</tbody>\n",
       "</table>\n"
      ],
      "text/latex": [
       "A tibble: 6 × 2\n",
       "\\begin{tabular}{ll}\n",
       " geo & values\\\\\n",
       " <chr> & <dbl>\\\\\n",
       "\\hline\n",
       "\t AL &  2.2\\\\\n",
       "\t AT &  1.4\\\\\n",
       "\t BE &  0.4\\\\\n",
       "\t BG &  1.2\\\\\n",
       "\t CH & -0.8\\\\\n",
       "\t CY & -1.1\\\\\n",
       "\\end{tabular}\n"
      ],
      "text/markdown": [
       "\n",
       "A tibble: 6 × 2\n",
       "\n",
       "| geo &lt;chr&gt; | values &lt;dbl&gt; |\n",
       "|---|---|\n",
       "| AL |  2.2 |\n",
       "| AT |  1.4 |\n",
       "| BE |  0.4 |\n",
       "| BG |  1.2 |\n",
       "| CH | -0.8 |\n",
       "| CY | -1.1 |\n",
       "\n"
      ],
      "text/plain": [
       "  geo values\n",
       "1 AL   2.2  \n",
       "2 AT   1.4  \n",
       "3 BE   0.4  \n",
       "4 BG   1.2  \n",
       "5 CH  -0.8  \n",
       "6 CY  -1.1  "
      ]
     },
     "metadata": {},
     "output_type": "display_data"
    }
   ],
   "source": [
    "inf <- get_eurostat(\"tec00118\")\n",
    "\n",
    "head(inf)\n",
    "\n",
    "inf <- inf[inf$TIME_PERIOD == as.Date(\"2020-01-01\"), ]\n",
    "inf <- inf[!grepl(\"^(EU|EA)\", inf$geo), ]\n",
    "\n",
    "inf$unit <- NULL\n",
    "inf$freq <- NULL\n",
    "inf$TIME_PERIOD <- NULL\n",
    "inf$coicop <- NULL\n",
    "\n",
    "head(inf)"
   ]
  },
  {
   "cell_type": "markdown",
   "id": "865b8218",
   "metadata": {},
   "source": [
    "Spojení s daty o HDP:"
   ]
  },
  {
   "cell_type": "code",
   "execution_count": 18,
   "id": "ece1e73a-76cb-4f0e-a0c6-c7b3c123a7a3",
   "metadata": {
    "vscode": {
     "languageId": "r"
    }
   },
   "outputs": [
    {
     "data": {
      "text/html": [
       "<table class=\"dataframe\">\n",
       "<caption>A data.frame: 6 × 5</caption>\n",
       "<thead>\n",
       "\t<tr><th></th><th scope=col>geo</th><th scope=col>gdp</th><th scope=col>consumption</th><th scope=col>gov_exp</th><th scope=col>inflation</th></tr>\n",
       "\t<tr><th></th><th scope=col>&lt;chr&gt;</th><th scope=col>&lt;dbl&gt;</th><th scope=col>&lt;dbl&gt;</th><th scope=col>&lt;dbl&gt;</th><th scope=col>&lt;dbl&gt;</th></tr>\n",
       "</thead>\n",
       "<tbody>\n",
       "\t<tr><th scope=row>1</th><td>AT</td><td>42720</td><td>25882</td><td>24264.959</td><td> 1.4</td></tr>\n",
       "\t<tr><th scope=row>2</th><td>BE</td><td>39910</td><td>22930</td><td>23507.488</td><td> 0.4</td></tr>\n",
       "\t<tr><th scope=row>3</th><td>BG</td><td> 8880</td><td> 4775</td><td> 3688.250</td><td> 1.2</td></tr>\n",
       "\t<tr><th scope=row>4</th><td>CY</td><td>24760</td><td>17658</td><td>10956.166</td><td>-1.1</td></tr>\n",
       "\t<tr><th scope=row>5</th><td>CZ</td><td>20170</td><td> 8426</td><td> 9523.288</td><td> 3.3</td></tr>\n",
       "\t<tr><th scope=row>6</th><td>DE</td><td>40930</td><td>23596</td><td>20653.708</td><td> 0.4</td></tr>\n",
       "</tbody>\n",
       "</table>\n"
      ],
      "text/latex": [
       "A data.frame: 6 × 5\n",
       "\\begin{tabular}{r|lllll}\n",
       "  & geo & gdp & consumption & gov\\_exp & inflation\\\\\n",
       "  & <chr> & <dbl> & <dbl> & <dbl> & <dbl>\\\\\n",
       "\\hline\n",
       "\t1 & AT & 42720 & 25882 & 24264.959 &  1.4\\\\\n",
       "\t2 & BE & 39910 & 22930 & 23507.488 &  0.4\\\\\n",
       "\t3 & BG &  8880 &  4775 &  3688.250 &  1.2\\\\\n",
       "\t4 & CY & 24760 & 17658 & 10956.166 & -1.1\\\\\n",
       "\t5 & CZ & 20170 &  8426 &  9523.288 &  3.3\\\\\n",
       "\t6 & DE & 40930 & 23596 & 20653.708 &  0.4\\\\\n",
       "\\end{tabular}\n"
      ],
      "text/markdown": [
       "\n",
       "A data.frame: 6 × 5\n",
       "\n",
       "| <!--/--> | geo &lt;chr&gt; | gdp &lt;dbl&gt; | consumption &lt;dbl&gt; | gov_exp &lt;dbl&gt; | inflation &lt;dbl&gt; |\n",
       "|---|---|---|---|---|---|\n",
       "| 1 | AT | 42720 | 25882 | 24264.959 |  1.4 |\n",
       "| 2 | BE | 39910 | 22930 | 23507.488 |  0.4 |\n",
       "| 3 | BG |  8880 |  4775 |  3688.250 |  1.2 |\n",
       "| 4 | CY | 24760 | 17658 | 10956.166 | -1.1 |\n",
       "| 5 | CZ | 20170 |  8426 |  9523.288 |  3.3 |\n",
       "| 6 | DE | 40930 | 23596 | 20653.708 |  0.4 |\n",
       "\n"
      ],
      "text/plain": [
       "  geo gdp   consumption gov_exp   inflation\n",
       "1 AT  42720 25882       24264.959  1.4     \n",
       "2 BE  39910 22930       23507.488  0.4     \n",
       "3 BG   8880  4775        3688.250  1.2     \n",
       "4 CY  24760 17658       10956.166 -1.1     \n",
       "5 CZ  20170  8426        9523.288  3.3     \n",
       "6 DE  40930 23596       20653.708  0.4     "
      ]
     },
     "metadata": {},
     "output_type": "display_data"
    }
   ],
   "source": [
    "data <- merge(data, inf, by=\"geo\", all=FALSE)\n",
    "data <- rename(data, inflation = values)\n",
    "\n",
    "head(data)"
   ]
  },
  {
   "cell_type": "code",
   "execution_count": 19,
   "id": "33fe1133",
   "metadata": {
    "vscode": {
     "languageId": "r"
    }
   },
   "outputs": [
    {
     "data": {
      "text/plain": [
       "   Min. 1st Qu.  Median    Mean 3rd Qu.    Max. \n",
       "  -1.30   -0.05    0.40    0.80    1.30    3.70 "
      ]
     },
     "metadata": {},
     "output_type": "display_data"
    },
    {
     "name": "stdout",
     "output_type": "stream",
     "text": [
      "Variance: 1.88\n",
      "Standard dev: 1.371131"
     ]
    },
    {
     "data": {
      "image/png": "[encoded data removed]",
      "text/plain": [
       "Plot with title “Histogram of data$inflation”"
      ]
     },
     "metadata": {
      "image/png": {
       "height": 420,
       "width": 420
      }
     },
     "output_type": "display_data"
    },
    {
     "data": {
      "image/png": "[encoded data removed]",
      "text/plain": [
       "plot without title"
      ]
     },
     "metadata": {
      "image/png": {
       "height": 420,
       "width": 420
      }
     },
     "output_type": "display_data"
    }
   ],
   "source": [
    "summary(data$inflation)\n",
    "\n",
    "cat(\"Variance:\", var(data$inflation))\n",
    "cat(\"\\nStandard dev:\", sd(data$inflation))\n",
    "\n",
    "hist(data$inflation)\n",
    "boxplot(data$inflation)"
   ]
  },
  {
   "cell_type": "markdown",
   "id": "5e873f35",
   "metadata": {},
   "source": [
    "Z výstupu výše je vidět, že průměrná inflace v roce 2020 byla 0.4%.\n",
    "\n",
    "Zároveň je vidět, že minimum je -1.3%, to znamená, že nějaký stát byl v roce 2020 v deflaci. Tato hodnota je velice zajímavá v době pandemie.\n",
    "\n",
    "Zobrazení závislosti HDP na inflaci a vypsání korelačního koeificientu:"
   ]
  },
  {
   "cell_type": "code",
   "execution_count": 20,
   "id": "393b1778-e573-449e-a788-afa0b35d8fc0",
   "metadata": {
    "vscode": {
     "languageId": "r"
    }
   },
   "outputs": [
    {
     "data": {
      "text/html": [
       "-0.224587145905763"
      ],
      "text/latex": [
       "-0.224587145905763"
      ],
      "text/markdown": [
       "-0.224587145905763"
      ],
      "text/plain": [
       "[1] -0.2245871"
      ]
     },
     "metadata": {},
     "output_type": "display_data"
    },
    {
     "data": {
      "image/png": "[encoded data removed]",
      "text/plain": [
       "plot without title"
      ]
     },
     "metadata": {
      "image/png": {
       "height": 420,
       "width": 420
      }
     },
     "output_type": "display_data"
    }
   ],
   "source": [
    "cor(data$inflation, data$gdp)\n",
    "\n",
    "plot(data$inflation, data$gdp)"
   ]
  },
  {
   "cell_type": "markdown",
   "id": "87f964ff",
   "metadata": {},
   "source": [
    "Z výstupu výše je vidět, že korelace mezi HDP a inflací není tak vysoká jako u předešlých veličin.\n",
    "\n",
    "I tak ale tu nějaká je. Je zajímavé, že HDP klesá s rostoucí inflací. Očekával, že HDP bude stoupat s rostoucí inflací, protože produkty se pak prodávají za vyšší ceny a HDP roste.\n",
    "\n",
    "Záporný korelační koeficient je kvůli tomu, že centrální banka reaguje na vysokou inflaci zvýšením úrokových sazeb a pro firmy i domácnosti je těžší existovat a tolik neutrácejí - takže se tolik ani nevyrábí."
   ]
  },
  {
   "cell_type": "markdown",
   "id": "4adef795-b254-473a-aa7e-05185d783fe3",
   "metadata": {},
   "source": [
    "## Indikátor EUR měny\n",
    "\n",
    "Bohužel jsme nikde v eurostatu nenašli údaje o tom jaké země mají které měny, takže jsme si data museli najít sami jinde na internetu: "
   ]
  },
  {
   "cell_type": "code",
   "execution_count": 21,
   "id": "4664d456-8d5d-49f1-b4a8-83d9481dfa9d",
   "metadata": {
    "vscode": {
     "languageId": "r"
    }
   },
   "outputs": [
    {
     "data": {
      "text/html": [
       "<table class=\"dataframe\">\n",
       "<caption>A data.frame: 6 × 2</caption>\n",
       "<thead>\n",
       "\t<tr><th></th><th scope=col>geo</th><th scope=col>uses_eur</th></tr>\n",
       "\t<tr><th></th><th scope=col>&lt;chr&gt;</th><th scope=col>&lt;lgl&gt;</th></tr>\n",
       "</thead>\n",
       "<tbody>\n",
       "\t<tr><th scope=row>1</th><td>AT</td><td> TRUE</td></tr>\n",
       "\t<tr><th scope=row>2</th><td>BE</td><td> TRUE</td></tr>\n",
       "\t<tr><th scope=row>3</th><td>BG</td><td>FALSE</td></tr>\n",
       "\t<tr><th scope=row>4</th><td>CY</td><td> TRUE</td></tr>\n",
       "\t<tr><th scope=row>5</th><td>CZ</td><td>FALSE</td></tr>\n",
       "\t<tr><th scope=row>6</th><td>DE</td><td> TRUE</td></tr>\n",
       "</tbody>\n",
       "</table>\n"
      ],
      "text/latex": [
       "A data.frame: 6 × 2\n",
       "\\begin{tabular}{r|ll}\n",
       "  & geo & uses\\_eur\\\\\n",
       "  & <chr> & <lgl>\\\\\n",
       "\\hline\n",
       "\t1 & AT &  TRUE\\\\\n",
       "\t2 & BE &  TRUE\\\\\n",
       "\t3 & BG & FALSE\\\\\n",
       "\t4 & CY &  TRUE\\\\\n",
       "\t5 & CZ & FALSE\\\\\n",
       "\t6 & DE &  TRUE\\\\\n",
       "\\end{tabular}\n"
      ],
      "text/markdown": [
       "\n",
       "A data.frame: 6 × 2\n",
       "\n",
       "| <!--/--> | geo &lt;chr&gt; | uses_eur &lt;lgl&gt; |\n",
       "|---|---|---|\n",
       "| 1 | AT |  TRUE |\n",
       "| 2 | BE |  TRUE |\n",
       "| 3 | BG | FALSE |\n",
       "| 4 | CY |  TRUE |\n",
       "| 5 | CZ | FALSE |\n",
       "| 6 | DE |  TRUE |\n",
       "\n"
      ],
      "text/plain": [
       "  geo uses_eur\n",
       "1 AT   TRUE   \n",
       "2 BE   TRUE   \n",
       "3 BG  FALSE   \n",
       "4 CY   TRUE   \n",
       "5 CZ  FALSE   \n",
       "6 DE   TRUE   "
      ]
     },
     "metadata": {},
     "output_type": "display_data"
    }
   ],
   "source": [
    "eur <- data.frame(\n",
    "  geo = c(\"AT\", \"BE\", \"BG\", \"CY\", \"CZ\", \"DE\", \"EE\", \"EL\", \"ES\", \"FI\", \"FR\", \"HR\", \"HU\", \"IT\", \"LT\", \"LU\", \"LV\", \"MT\", \"NL\", \"PL\", \"RO\", \"SI\", \"SK\"),\n",
    "  uses_eur = c(1, 1, 0, 1, 0, 1, 1, 1, 1, 1, 1, 0, 0, 1, 1, 1, 1, 1, 1, 0, 0, 1, 1)\n",
    ")\n",
    "\n",
    "eur$uses_eur <- ifelse(eur$uses_eur == 1, TRUE, FALSE)\n",
    "\n",
    "head(eur)"
   ]
  },
  {
   "cell_type": "code",
   "execution_count": 22,
   "id": "d44ce9df",
   "metadata": {
    "vscode": {
     "languageId": "r"
    }
   },
   "outputs": [],
   "source": [
    "# data$geo\n",
    "# eur$geo"
   ]
  },
  {
   "cell_type": "markdown",
   "id": "a24bb971",
   "metadata": {},
   "source": [
    "Spojení s daty o HDP:"
   ]
  },
  {
   "cell_type": "code",
   "execution_count": 23,
   "id": "8c85ec3a-8cf4-4280-8ef4-ad67f193cf98",
   "metadata": {
    "vscode": {
     "languageId": "r"
    }
   },
   "outputs": [
    {
     "data": {
      "text/html": [
       "<table class=\"dataframe\">\n",
       "<caption>A data.frame: 23 × 6</caption>\n",
       "<thead>\n",
       "\t<tr><th scope=col>geo</th><th scope=col>gdp</th><th scope=col>consumption</th><th scope=col>gov_exp</th><th scope=col>inflation</th><th scope=col>uses_eur</th></tr>\n",
       "\t<tr><th scope=col>&lt;chr&gt;</th><th scope=col>&lt;dbl&gt;</th><th scope=col>&lt;dbl&gt;</th><th scope=col>&lt;dbl&gt;</th><th scope=col>&lt;dbl&gt;</th><th scope=col>&lt;lgl&gt;</th></tr>\n",
       "</thead>\n",
       "<tbody>\n",
       "\t<tr><td>AT</td><td> 42720</td><td>25882</td><td>24264.959</td><td> 1.4</td><td> TRUE</td></tr>\n",
       "\t<tr><td>BE</td><td> 39910</td><td>22930</td><td>23507.488</td><td> 0.4</td><td> TRUE</td></tr>\n",
       "\t<tr><td>BG</td><td>  8880</td><td> 4775</td><td> 3688.250</td><td> 1.2</td><td>FALSE</td></tr>\n",
       "\t<tr><td>CY</td><td> 24760</td><td>17658</td><td>10956.166</td><td>-1.1</td><td> TRUE</td></tr>\n",
       "\t<tr><td>CZ</td><td> 20170</td><td> 8426</td><td> 9523.288</td><td> 3.3</td><td>FALSE</td></tr>\n",
       "\t<tr><td>DE</td><td> 40930</td><td>23596</td><td>20653.708</td><td> 0.4</td><td> TRUE</td></tr>\n",
       "\t<tr><td>EE</td><td> 20640</td><td>10042</td><td> 9261.865</td><td>-0.6</td><td> TRUE</td></tr>\n",
       "\t<tr><td>EL</td><td> 15420</td><td>11922</td><td> 9284.962</td><td>-1.3</td><td> TRUE</td></tr>\n",
       "\t<tr><td>ES</td><td> 23640</td><td>16576</td><td>12266.825</td><td>-0.3</td><td> TRUE</td></tr>\n",
       "\t<tr><td>FI</td><td> 43040</td><td>26015</td><td>24613.159</td><td> 0.4</td><td> TRUE</td></tr>\n",
       "\t<tr><td>FR</td><td> 34080</td><td>21511</td><td>21034.043</td><td> 0.5</td><td> TRUE</td></tr>\n",
       "\t<tr><td>HR</td><td> 12590</td><td> 8605</td><td> 6706.562</td><td> 0.0</td><td>FALSE</td></tr>\n",
       "\t<tr><td>HU</td><td> 14150</td><td> 9446</td><td> 7272.145</td><td> 3.4</td><td>FALSE</td></tr>\n",
       "\t<tr><td>IT</td><td> 27950</td><td>18141</td><td>15869.506</td><td>-0.1</td><td> TRUE</td></tr>\n",
       "\t<tr><td>LT</td><td> 17840</td><td> 8953</td><td> 7624.450</td><td> 1.1</td><td> TRUE</td></tr>\n",
       "\t<tr><td>LU</td><td>102230</td><td>43306</td><td>48007.764</td><td> 0.0</td><td> TRUE</td></tr>\n",
       "\t<tr><td>LV</td><td> 15840</td><td> 8310</td><td> 6720.484</td><td> 0.1</td><td> TRUE</td></tr>\n",
       "\t<tr><td>MT</td><td> 25910</td><td>13742</td><td>11674.590</td><td> 0.8</td><td> TRUE</td></tr>\n",
       "\t<tr><td>NL</td><td> 45670</td><td>25624</td><td>21843.309</td><td> 1.1</td><td> TRUE</td></tr>\n",
       "\t<tr><td>PL</td><td> 13720</td><td> 5954</td><td> 6618.668</td><td> 3.7</td><td>FALSE</td></tr>\n",
       "\t<tr><td>RO</td><td> 11430</td><td> 4867</td><td> 4774.809</td><td> 2.3</td><td>FALSE</td></tr>\n",
       "\t<tr><td>SI</td><td> 22370</td><td>13712</td><td>11490.156</td><td>-0.3</td><td> TRUE</td></tr>\n",
       "\t<tr><td>SK</td><td> 17110</td><td> 7827</td><td> 7655.860</td><td> 2.0</td><td> TRUE</td></tr>\n",
       "</tbody>\n",
       "</table>\n"
      ],
      "text/latex": [
       "A data.frame: 23 × 6\n",
       "\\begin{tabular}{llllll}\n",
       " geo & gdp & consumption & gov\\_exp & inflation & uses\\_eur\\\\\n",
       " <chr> & <dbl> & <dbl> & <dbl> & <dbl> & <lgl>\\\\\n",
       "\\hline\n",
       "\t AT &  42720 & 25882 & 24264.959 &  1.4 &  TRUE\\\\\n",
       "\t BE &  39910 & 22930 & 23507.488 &  0.4 &  TRUE\\\\\n",
       "\t BG &   8880 &  4775 &  3688.250 &  1.2 & FALSE\\\\\n",
       "\t CY &  24760 & 17658 & 10956.166 & -1.1 &  TRUE\\\\\n",
       "\t CZ &  20170 &  8426 &  9523.288 &  3.3 & FALSE\\\\\n",
       "\t DE &  40930 & 23596 & 20653.708 &  0.4 &  TRUE\\\\\n",
       "\t EE &  20640 & 10042 &  9261.865 & -0.6 &  TRUE\\\\\n",
       "\t EL &  15420 & 11922 &  9284.962 & -1.3 &  TRUE\\\\\n",
       "\t ES &  23640 & 16576 & 12266.825 & -0.3 &  TRUE\\\\\n",
       "\t FI &  43040 & 26015 & 24613.159 &  0.4 &  TRUE\\\\\n",
       "\t FR &  34080 & 21511 & 21034.043 &  0.5 &  TRUE\\\\\n",
       "\t HR &  12590 &  8605 &  6706.562 &  0.0 & FALSE\\\\\n",
       "\t HU &  14150 &  9446 &  7272.145 &  3.4 & FALSE\\\\\n",
       "\t IT &  27950 & 18141 & 15869.506 & -0.1 &  TRUE\\\\\n",
       "\t LT &  17840 &  8953 &  7624.450 &  1.1 &  TRUE\\\\\n",
       "\t LU & 102230 & 43306 & 48007.764 &  0.0 &  TRUE\\\\\n",
       "\t LV &  15840 &  8310 &  6720.484 &  0.1 &  TRUE\\\\\n",
       "\t MT &  25910 & 13742 & 11674.590 &  0.8 &  TRUE\\\\\n",
       "\t NL &  45670 & 25624 & 21843.309 &  1.1 &  TRUE\\\\\n",
       "\t PL &  13720 &  5954 &  6618.668 &  3.7 & FALSE\\\\\n",
       "\t RO &  11430 &  4867 &  4774.809 &  2.3 & FALSE\\\\\n",
       "\t SI &  22370 & 13712 & 11490.156 & -0.3 &  TRUE\\\\\n",
       "\t SK &  17110 &  7827 &  7655.860 &  2.0 &  TRUE\\\\\n",
       "\\end{tabular}\n"
      ],
      "text/markdown": [
       "\n",
       "A data.frame: 23 × 6\n",
       "\n",
       "| geo &lt;chr&gt; | gdp &lt;dbl&gt; | consumption &lt;dbl&gt; | gov_exp &lt;dbl&gt; | inflation &lt;dbl&gt; | uses_eur &lt;lgl&gt; |\n",
       "|---|---|---|---|---|---|\n",
       "| AT |  42720 | 25882 | 24264.959 |  1.4 |  TRUE |\n",
       "| BE |  39910 | 22930 | 23507.488 |  0.4 |  TRUE |\n",
       "| BG |   8880 |  4775 |  3688.250 |  1.2 | FALSE |\n",
       "| CY |  24760 | 17658 | 10956.166 | -1.1 |  TRUE |\n",
       "| CZ |  20170 |  8426 |  9523.288 |  3.3 | FALSE |\n",
       "| DE |  40930 | 23596 | 20653.708 |  0.4 |  TRUE |\n",
       "| EE |  20640 | 10042 |  9261.865 | -0.6 |  TRUE |\n",
       "| EL |  15420 | 11922 |  9284.962 | -1.3 |  TRUE |\n",
       "| ES |  23640 | 16576 | 12266.825 | -0.3 |  TRUE |\n",
       "| FI |  43040 | 26015 | 24613.159 |  0.4 |  TRUE |\n",
       "| FR |  34080 | 21511 | 21034.043 |  0.5 |  TRUE |\n",
       "| HR |  12590 |  8605 |  6706.562 |  0.0 | FALSE |\n",
       "| HU |  14150 |  9446 |  7272.145 |  3.4 | FALSE |\n",
       "| IT |  27950 | 18141 | 15869.506 | -0.1 |  TRUE |\n",
       "| LT |  17840 |  8953 |  7624.450 |  1.1 |  TRUE |\n",
       "| LU | 102230 | 43306 | 48007.764 |  0.0 |  TRUE |\n",
       "| LV |  15840 |  8310 |  6720.484 |  0.1 |  TRUE |\n",
       "| MT |  25910 | 13742 | 11674.590 |  0.8 |  TRUE |\n",
       "| NL |  45670 | 25624 | 21843.309 |  1.1 |  TRUE |\n",
       "| PL |  13720 |  5954 |  6618.668 |  3.7 | FALSE |\n",
       "| RO |  11430 |  4867 |  4774.809 |  2.3 | FALSE |\n",
       "| SI |  22370 | 13712 | 11490.156 | -0.3 |  TRUE |\n",
       "| SK |  17110 |  7827 |  7655.860 |  2.0 |  TRUE |\n",
       "\n"
      ],
      "text/plain": [
       "   geo gdp    consumption gov_exp   inflation uses_eur\n",
       "1  AT   42720 25882       24264.959  1.4       TRUE   \n",
       "2  BE   39910 22930       23507.488  0.4       TRUE   \n",
       "3  BG    8880  4775        3688.250  1.2      FALSE   \n",
       "4  CY   24760 17658       10956.166 -1.1       TRUE   \n",
       "5  CZ   20170  8426        9523.288  3.3      FALSE   \n",
       "6  DE   40930 23596       20653.708  0.4       TRUE   \n",
       "7  EE   20640 10042        9261.865 -0.6       TRUE   \n",
       "8  EL   15420 11922        9284.962 -1.3       TRUE   \n",
       "9  ES   23640 16576       12266.825 -0.3       TRUE   \n",
       "10 FI   43040 26015       24613.159  0.4       TRUE   \n",
       "11 FR   34080 21511       21034.043  0.5       TRUE   \n",
       "12 HR   12590  8605        6706.562  0.0      FALSE   \n",
       "13 HU   14150  9446        7272.145  3.4      FALSE   \n",
       "14 IT   27950 18141       15869.506 -0.1       TRUE   \n",
       "15 LT   17840  8953        7624.450  1.1       TRUE   \n",
       "16 LU  102230 43306       48007.764  0.0       TRUE   \n",
       "17 LV   15840  8310        6720.484  0.1       TRUE   \n",
       "18 MT   25910 13742       11674.590  0.8       TRUE   \n",
       "19 NL   45670 25624       21843.309  1.1       TRUE   \n",
       "20 PL   13720  5954        6618.668  3.7      FALSE   \n",
       "21 RO   11430  4867        4774.809  2.3      FALSE   \n",
       "22 SI   22370 13712       11490.156 -0.3       TRUE   \n",
       "23 SK   17110  7827        7655.860  2.0       TRUE   "
      ]
     },
     "metadata": {},
     "output_type": "display_data"
    }
   ],
   "source": [
    "data <- merge(data, eur, by=\"geo\", all=TRUE)\n",
    "\n",
    "data"
   ]
  },
  {
   "cell_type": "markdown",
   "id": "7d26b81c",
   "metadata": {},
   "source": [
    "Důležité vlastnosti HDP v závislosti na měně:"
   ]
  },
  {
   "cell_type": "code",
   "execution_count": 24,
   "id": "6ce6b25b-e613-45b3-899f-ea55536e3ee2",
   "metadata": {
    "vscode": {
     "languageId": "r"
    }
   },
   "outputs": [
    {
     "name": "stdout",
     "output_type": "stream",
     "text": [
      "EUR countries mean gdp: 32944.71\n",
      "non EUR countries mean gdp: 13490\n",
      "\n",
      "Number of countries with EUR: "
     ]
    },
    {
     "data": {
      "text/html": [
       "<style>\n",
       ".list-inline {list-style: none; margin:0; padding: 0}\n",
       ".list-inline>li {display: inline-block}\n",
       ".list-inline>li:not(:last-child)::after {content: \"\\00b7\"; padding: 0 .5ex}\n",
       "</style>\n",
       "<ol class=list-inline><li>17</li><li>6</li></ol>\n"
      ],
      "text/latex": [
       "\\begin{enumerate*}\n",
       "\\item 17\n",
       "\\item 6\n",
       "\\end{enumerate*}\n"
      ],
      "text/markdown": [
       "1. 17\n",
       "2. 6\n",
       "\n",
       "\n"
      ],
      "text/plain": [
       "[1] 17  6"
      ]
     },
     "metadata": {},
     "output_type": "display_data"
    },
    {
     "name": "stdout",
     "output_type": "stream",
     "text": [
      "Number of countries without EUR: "
     ]
    },
    {
     "data": {
      "text/html": [
       "<style>\n",
       ".list-inline {list-style: none; margin:0; padding: 0}\n",
       ".list-inline>li {display: inline-block}\n",
       ".list-inline>li:not(:last-child)::after {content: \"\\00b7\"; padding: 0 .5ex}\n",
       "</style>\n",
       "<ol class=list-inline><li>6</li><li>6</li></ol>\n"
      ],
      "text/latex": [
       "\\begin{enumerate*}\n",
       "\\item 6\n",
       "\\item 6\n",
       "\\end{enumerate*}\n"
      ],
      "text/markdown": [
       "1. 6\n",
       "2. 6\n",
       "\n",
       "\n"
      ],
      "text/plain": [
       "[1] 6 6"
      ]
     },
     "metadata": {},
     "output_type": "display_data"
    },
    {
     "data": {
      "image/png": "[encoded data removed]",
      "text/plain": [
       "plot without title"
      ]
     },
     "metadata": {
      "image/png": {
       "height": 420,
       "width": 420
      }
     },
     "output_type": "display_data"
    }
   ],
   "source": [
    "boxplot(data[data$uses_eur == TRUE, ]$gdp, data[data$uses_eur == FALSE, ]$gdp)\n",
    "\n",
    "cat(\"EUR countries mean gdp:\", mean(data[data$uses_eur == TRUE, ]$gdp))\n",
    "cat(\"\\nnon EUR countries mean gdp:\", mean(data[data$uses_eur == FALSE, ]$gdp))\n",
    "\n",
    "cat(\"\\n\\nNumber of countries with EUR: \")\n",
    "dim(data[data$uses_eur == TRUE, ])\n",
    "\n",
    "cat(\"Number of countries without EUR: \")\n",
    "dim(data[data$uses_eur == FALSE, ])"
   ]
  },
  {
   "cell_type": "code",
   "execution_count": 25,
   "id": "32050bf2-3e87-4c07-ba40-1aa6dafb03f9",
   "metadata": {
    "vscode": {
     "languageId": "r"
    }
   },
   "outputs": [
    {
     "data": {
      "image/png": "[encoded data removed]",
      "text/plain": [
       "plot without title"
      ]
     },
     "metadata": {
      "image/png": {
       "height": 420,
       "width": 420
      }
     },
     "output_type": "display_data"
    }
   ],
   "source": [
    "ggplot(data, aes(x=gdp, fill=uses_eur)) +\n",
    "    geom_histogram(bins=8) +\n",
    "    theme_minimal()"
   ]
  },
  {
   "cell_type": "markdown",
   "id": "7d254aa0",
   "metadata": {},
   "source": [
    "Jak je vidět z výstupu výše, tak země, které nemají euro mají významně nižší HDP. Zároveň ale nemáme moc dat. Máme údaje o 6 zemích, které nemají euro a o 17 zemích, které euro mají. Bohužel se nám ztratilo několik zemí, nejvíce kvůli chybějícím datům v tabulce o průměrných výdajích obyvatel.\n",
    "\n",
    "\n",
    "chtěli bychom otestovat, zda střední hodnoty napříč kategoriemi mají rozdílnou střední hodnotu na standardní hladině významnosti proti oboustranné alternativě\n",
    "\n",
    "H0: Eeur == Eneur<br>\n",
    "Ha: Eeur != Eneur\n",
    "\n",
    "Musíme nejdříve otestovat předpoklady anova testu:\n",
    "\n",
    "Na standardní hladině významnosti musíme ověřit normalitu odchylek napříč kategoriemi - odchylky odhadneme pomocí reziduí a otestujeme jestli jsou z normálního rozdělení.\n",
    "\n",
    "H0: Rezidua jsou z normálního rozdělení<br>\n",
    "Ha: Rezidua nejsou z normálního rozdělení\n",
    "\n",
    "\n",
    "<br>\n",
    "<br>\n",
    "\n",
    "Na standardní hladině významnosti musíme ještě ověřit homogenitu:\n",
    "\n",
    "H0: Rezidua zemí s eurem a zemí bez eura mají stejný rozptyl.<br>\n",
    "Ha: Rezidua zemí s eurem a zemí bez eura mají rozdílný rozptyl."
   ]
  },
  {
   "cell_type": "code",
   "execution_count": 26,
   "id": "6688ec0e",
   "metadata": {
    "vscode": {
     "languageId": "r"
    }
   },
   "outputs": [
    {
     "data": {
      "text/plain": [
       "\n",
       "\tShapiro-Wilk normality test\n",
       "\n",
       "data:  model$resid\n",
       "W = 0.72001, p-value = 2.574e-05\n"
      ]
     },
     "metadata": {},
     "output_type": "display_data"
    },
    {
     "data": {
      "text/plain": [
       "\n",
       "\tBartlett test of homogeneity of variances\n",
       "\n",
       "data:  data$gdp by data$uses_eur\n",
       "Bartlett's K-squared = 10.735, df = 1, p-value = 0.001051\n"
      ]
     },
     "metadata": {},
     "output_type": "display_data"
    }
   ],
   "source": [
    "model <- lm(data$gdp ~ data$uses_eur)\n",
    "shapiro.test(model$resid)\n",
    "\n",
    "bartlett.test(data$gdp ~ data$uses_eur)"
   ]
  },
  {
   "cell_type": "markdown",
   "id": "583d1788",
   "metadata": {},
   "source": [
    "Na standardní hladině významnosti zamítáme obě nulové hypotézy.\n",
    "\n",
    "Musíme tedy použít nějakou transformaci vysvětlované proměnné, tak aby předpoklad byl splněný - použijeme logaritmus vysvětlované proměnné:"
   ]
  },
  {
   "cell_type": "code",
   "execution_count": 27,
   "id": "efafac12",
   "metadata": {
    "vscode": {
     "languageId": "r"
    }
   },
   "outputs": [
    {
     "data": {
      "text/plain": [
       "\n",
       "\tShapiro-Wilk normality test\n",
       "\n",
       "data:  model$resid\n",
       "W = 0.93449, p-value = 0.1368\n"
      ]
     },
     "metadata": {},
     "output_type": "display_data"
    },
    {
     "data": {
      "text/plain": [
       "\n",
       "\tBartlett test of homogeneity of variances\n",
       "\n",
       "data:  log(data$gdp) by data$uses_eur\n",
       "Bartlett's K-squared = 2.036, df = 1, p-value = 0.1536\n"
      ]
     },
     "metadata": {},
     "output_type": "display_data"
    }
   ],
   "source": [
    "model <- lm(log(data$gdp) ~ data$uses_eur)\n",
    "shapiro.test(model$resid)\n",
    "\n",
    "bartlett.test(log(data$gdp) ~ data$uses_eur)"
   ]
  },
  {
   "cell_type": "markdown",
   "id": "c53c7c51",
   "metadata": {},
   "source": [
    "Zde už nulové hypotézy nezamítáme a může předpokládat, že platí předpoklady anova testu. Otestujeme tedy rovnost středních hodnot:"
   ]
  },
  {
   "cell_type": "code",
   "execution_count": 28,
   "id": "9d57e339-a805-4bde-9129-c0349c794bf9",
   "metadata": {
    "vscode": {
     "languageId": "r"
    }
   },
   "outputs": [
    {
     "data": {
      "text/html": [
       "<table class=\"dataframe\">\n",
       "<caption>A anova: 2 × 5</caption>\n",
       "<thead>\n",
       "\t<tr><th></th><th scope=col>Df</th><th scope=col>Sum Sq</th><th scope=col>Mean Sq</th><th scope=col>F value</th><th scope=col>Pr(&gt;F)</th></tr>\n",
       "\t<tr><th></th><th scope=col>&lt;int&gt;</th><th scope=col>&lt;dbl&gt;</th><th scope=col>&lt;dbl&gt;</th><th scope=col>&lt;dbl&gt;</th><th scope=col>&lt;dbl&gt;</th></tr>\n",
       "</thead>\n",
       "<tbody>\n",
       "\t<tr><th scope=row>data$uses_eur</th><td> 1</td><td>2.795830</td><td>2.7958300</td><td>13.79871</td><td>0.00128264</td></tr>\n",
       "\t<tr><th scope=row>Residuals</th><td>21</td><td>4.254921</td><td>0.2026153</td><td>      NA</td><td>        NA</td></tr>\n",
       "</tbody>\n",
       "</table>\n"
      ],
      "text/latex": [
       "A anova: 2 × 5\n",
       "\\begin{tabular}{r|lllll}\n",
       "  & Df & Sum Sq & Mean Sq & F value & Pr(>F)\\\\\n",
       "  & <int> & <dbl> & <dbl> & <dbl> & <dbl>\\\\\n",
       "\\hline\n",
       "\tdata\\$uses\\_eur &  1 & 2.795830 & 2.7958300 & 13.79871 & 0.00128264\\\\\n",
       "\tResiduals & 21 & 4.254921 & 0.2026153 &       NA &         NA\\\\\n",
       "\\end{tabular}\n"
      ],
      "text/markdown": [
       "\n",
       "A anova: 2 × 5\n",
       "\n",
       "| <!--/--> | Df &lt;int&gt; | Sum Sq &lt;dbl&gt; | Mean Sq &lt;dbl&gt; | F value &lt;dbl&gt; | Pr(&gt;F) &lt;dbl&gt; |\n",
       "|---|---|---|---|---|---|\n",
       "| data$uses_eur |  1 | 2.795830 | 2.7958300 | 13.79871 | 0.00128264 |\n",
       "| Residuals | 21 | 4.254921 | 0.2026153 |       NA |         NA |\n",
       "\n"
      ],
      "text/plain": [
       "              Df Sum Sq   Mean Sq   F value  Pr(>F)    \n",
       "data$uses_eur  1 2.795830 2.7958300 13.79871 0.00128264\n",
       "Residuals     21 4.254921 0.2026153       NA         NA"
      ]
     },
     "metadata": {},
     "output_type": "display_data"
    }
   ],
   "source": [
    "anova(aov(log(data$gdp) ~ data$uses_eur))"
   ]
  },
  {
   "cell_type": "markdown",
   "id": "8f94948d",
   "metadata": {},
   "source": [
    "Na standardní hladině významnosti zamítáme nulovou hypotézu ve prospěch alternativy. Znamená to, že země, které mají euro, mají statisticky významně rozdílné HDP oproti zemím, které euro nemají."
   ]
  },
  {
   "cell_type": "markdown",
   "id": "9e93046f-9ef6-4a3e-86f4-64f7454b1fb6",
   "metadata": {},
   "source": [
    "# Rozdělení HDP"
   ]
  },
  {
   "cell_type": "code",
   "execution_count": 29,
   "id": "5963ab9a-dc54-473e-ae56-0139c7ca403d",
   "metadata": {
    "vscode": {
     "languageId": "r"
    }
   },
   "outputs": [
    {
     "data": {
      "image/png": "[encoded data removed]",
      "text/plain": [
       "Plot with title “Histogram of data$gdp”"
      ]
     },
     "metadata": {
      "image/png": {
       "height": 420,
       "width": 420
      }
     },
     "output_type": "display_data"
    },
    {
     "data": {
      "text/plain": [
       "   Min. 1st Qu.  Median    Mean 3rd Qu.    Max. \n",
       "   8880   15630   22370   27870   36995  102230 "
      ]
     },
     "metadata": {},
     "output_type": "display_data"
    },
    {
     "name": "stdout",
     "output_type": "stream",
     "text": [
      "\n",
      "Var: 390597777\n",
      "Standard dev.: 19763.55"
     ]
    },
    {
     "data": {
      "image/png": "[encoded data removed]",
      "text/plain": [
       "plot without title"
      ]
     },
     "metadata": {
      "image/png": {
       "height": 420,
       "width": 420
      }
     },
     "output_type": "display_data"
    }
   ],
   "source": [
    "hist(data$gdp)\n",
    "\n",
    "boxplot(data$gdp)\n",
    "\n",
    "summary(data$gdp)\n",
    "\n",
    "cat(\"\\nVar:\", var(data$gdp))\n",
    "cat(\"\\nStandard dev.:\", sd(data$gdp))"
   ]
  },
  {
   "cell_type": "markdown",
   "id": "35d8163c",
   "metadata": {},
   "source": [
    "Jak je vidět z výstpu výše, tak průměrná hodnota HDP na obyvatele je 27 870 euro (za rok). Standardní odchylka je relativně vysoké v poměru s poměrem - má hodnotu 19 763,55, což je zhruba 70% průměru. Zároveň je ale vidět z boxplotu, že tam je jeden outlier, kvůli kterému nejspíše bude tak vysoká směrodatná odchylka.\n",
    "\n",
    "Tento outlier je pouze jeden a má hodnotu HDP na obyvatele 102 230, což je 3.67x více než průměr."
   ]
  },
  {
   "cell_type": "markdown",
   "id": "77bfeb67-a197-4a0d-b3b5-ec6c384007d9",
   "metadata": {},
   "source": [
    "# Vztahy a závislosti jednotlivých veličin\n",
    "\n",
    "vykreslení grafu závislosti jednotlivých veličin na ostatních veličinách:"
   ]
  },
  {
   "cell_type": "code",
   "execution_count": 30,
   "id": "5a0525d4-24d6-4359-87cb-49d1de36590c",
   "metadata": {
    "vscode": {
     "languageId": "r"
    }
   },
   "outputs": [
    {
     "data": {
      "image/png": "[encoded data removed]",
      "text/plain": [
       "plot without title"
      ]
     },
     "metadata": {
      "image/png": {
       "height": 420,
       "width": 420
      }
     },
     "output_type": "display_data"
    }
   ],
   "source": [
    "pairs(select_if(data, is.numeric))"
   ]
  },
  {
   "cell_type": "markdown",
   "id": "80bb11e3",
   "metadata": {},
   "source": [
    "Jak je vidět z grafu, tak HDP je vysoce korelované s consumption a government expenditure, jak jsme viděli dříve. \n",
    "\n",
    "Zároveň je ale vidět, že i výdaje vlády jsou vysoce korelované s výdaji obyvatel, takže bude možná lepší v modelu lineární regrese použít pouze jednu z těcho veličin.\n",
    "\n",
    "Korelační koeficienty jednotlivých veličin:"
   ]
  },
  {
   "cell_type": "code",
   "execution_count": 31,
   "id": "c63c805b",
   "metadata": {
    "vscode": {
     "languageId": "r"
    }
   },
   "outputs": [
    {
     "data": {
      "text/html": [
       "<table class=\"dataframe\">\n",
       "<caption>A matrix: 4 × 4 of type dbl</caption>\n",
       "<thead>\n",
       "\t<tr><th></th><th scope=col>gdp</th><th scope=col>consumption</th><th scope=col>gov_exp</th><th scope=col>inflation</th></tr>\n",
       "</thead>\n",
       "<tbody>\n",
       "\t<tr><th scope=row>gdp</th><td> 1.0000000</td><td> 0.9532763</td><td> 0.9831386</td><td>-0.2245871</td></tr>\n",
       "\t<tr><th scope=row>consumption</th><td> 0.9532763</td><td> 1.0000000</td><td> 0.9765340</td><td>-0.3467846</td></tr>\n",
       "\t<tr><th scope=row>gov_exp</th><td> 0.9831386</td><td> 0.9765340</td><td> 1.0000000</td><td>-0.2420767</td></tr>\n",
       "\t<tr><th scope=row>inflation</th><td>-0.2245871</td><td>-0.3467846</td><td>-0.2420767</td><td> 1.0000000</td></tr>\n",
       "</tbody>\n",
       "</table>\n"
      ],
      "text/latex": [
       "A matrix: 4 × 4 of type dbl\n",
       "\\begin{tabular}{r|llll}\n",
       "  & gdp & consumption & gov\\_exp & inflation\\\\\n",
       "\\hline\n",
       "\tgdp &  1.0000000 &  0.9532763 &  0.9831386 & -0.2245871\\\\\n",
       "\tconsumption &  0.9532763 &  1.0000000 &  0.9765340 & -0.3467846\\\\\n",
       "\tgov\\_exp &  0.9831386 &  0.9765340 &  1.0000000 & -0.2420767\\\\\n",
       "\tinflation & -0.2245871 & -0.3467846 & -0.2420767 &  1.0000000\\\\\n",
       "\\end{tabular}\n"
      ],
      "text/markdown": [
       "\n",
       "A matrix: 4 × 4 of type dbl\n",
       "\n",
       "| <!--/--> | gdp | consumption | gov_exp | inflation |\n",
       "|---|---|---|---|---|\n",
       "| gdp |  1.0000000 |  0.9532763 |  0.9831386 | -0.2245871 |\n",
       "| consumption |  0.9532763 |  1.0000000 |  0.9765340 | -0.3467846 |\n",
       "| gov_exp |  0.9831386 |  0.9765340 |  1.0000000 | -0.2420767 |\n",
       "| inflation | -0.2245871 | -0.3467846 | -0.2420767 |  1.0000000 |\n",
       "\n"
      ],
      "text/plain": [
       "            gdp        consumption gov_exp    inflation \n",
       "gdp          1.0000000  0.9532763   0.9831386 -0.2245871\n",
       "consumption  0.9532763  1.0000000   0.9765340 -0.3467846\n",
       "gov_exp      0.9831386  0.9765340   1.0000000 -0.2420767\n",
       "inflation   -0.2245871 -0.3467846  -0.2420767  1.0000000"
      ]
     },
     "metadata": {},
     "output_type": "display_data"
    }
   ],
   "source": [
    "cor(select_if(data, is.numeric))"
   ]
  },
  {
   "cell_type": "markdown",
   "id": "cc3de87a",
   "metadata": {},
   "source": [
    "Pearsonův korelační koeficient předpokládá konečnou kovarianci a konečné rozptyly obou veličin. Myslím si, že pro představu a lineární závislosti je tento koeficient velice dobrý a není nutné testovat tyto předpoklady například tím, zda data pocházejí z normálního rozdělení.\n",
    " \n",
    "I tak si můžeme zobrazit spearmanové koeficienty, které nemají takové předpoklady:"
   ]
  },
  {
   "cell_type": "code",
   "execution_count": 32,
   "id": "ac586142",
   "metadata": {
    "vscode": {
     "languageId": "r"
    }
   },
   "outputs": [
    {
     "data": {
      "text/html": [
       "<table class=\"dataframe\">\n",
       "<caption>A matrix: 4 × 4 of type dbl</caption>\n",
       "<thead>\n",
       "\t<tr><th></th><th scope=col>gdp</th><th scope=col>consumption</th><th scope=col>gov_exp</th><th scope=col>inflation</th></tr>\n",
       "</thead>\n",
       "<tbody>\n",
       "\t<tr><th scope=row>gdp</th><td> 1.0000000</td><td> 0.9466403</td><td> 0.9693676</td><td>-0.2454842</td></tr>\n",
       "\t<tr><th scope=row>consumption</th><td> 0.9466403</td><td> 1.0000000</td><td> 0.9584980</td><td>-0.3642668</td></tr>\n",
       "\t<tr><th scope=row>gov_exp</th><td> 0.9693676</td><td> 0.9584980</td><td> 1.0000000</td><td>-0.2776545</td></tr>\n",
       "\t<tr><th scope=row>inflation</th><td>-0.2454842</td><td>-0.3642668</td><td>-0.2776545</td><td> 1.0000000</td></tr>\n",
       "</tbody>\n",
       "</table>\n"
      ],
      "text/latex": [
       "A matrix: 4 × 4 of type dbl\n",
       "\\begin{tabular}{r|llll}\n",
       "  & gdp & consumption & gov\\_exp & inflation\\\\\n",
       "\\hline\n",
       "\tgdp &  1.0000000 &  0.9466403 &  0.9693676 & -0.2454842\\\\\n",
       "\tconsumption &  0.9466403 &  1.0000000 &  0.9584980 & -0.3642668\\\\\n",
       "\tgov\\_exp &  0.9693676 &  0.9584980 &  1.0000000 & -0.2776545\\\\\n",
       "\tinflation & -0.2454842 & -0.3642668 & -0.2776545 &  1.0000000\\\\\n",
       "\\end{tabular}\n"
      ],
      "text/markdown": [
       "\n",
       "A matrix: 4 × 4 of type dbl\n",
       "\n",
       "| <!--/--> | gdp | consumption | gov_exp | inflation |\n",
       "|---|---|---|---|---|\n",
       "| gdp |  1.0000000 |  0.9466403 |  0.9693676 | -0.2454842 |\n",
       "| consumption |  0.9466403 |  1.0000000 |  0.9584980 | -0.3642668 |\n",
       "| gov_exp |  0.9693676 |  0.9584980 |  1.0000000 | -0.2776545 |\n",
       "| inflation | -0.2454842 | -0.3642668 | -0.2776545 |  1.0000000 |\n",
       "\n"
      ],
      "text/plain": [
       "            gdp        consumption gov_exp    inflation \n",
       "gdp          1.0000000  0.9466403   0.9693676 -0.2454842\n",
       "consumption  0.9466403  1.0000000   0.9584980 -0.3642668\n",
       "gov_exp      0.9693676  0.9584980   1.0000000 -0.2776545\n",
       "inflation   -0.2454842 -0.3642668  -0.2776545  1.0000000"
      ]
     },
     "metadata": {},
     "output_type": "display_data"
    }
   ],
   "source": [
    "cor(select_if(data, is.numeric), method=\"spearman\")"
   ]
  },
  {
   "cell_type": "markdown",
   "id": "4d3c6497",
   "metadata": {},
   "source": [
    "Jak je vidět, tak koeficienty mají podobné hodnoty.\n",
    "\n",
    "## Testy nulovosti korelačních koeficientů\n",
    "\n",
    "Chtěli bychom otestovat, zda korelační koeficienty jednotlivých spojitých regresorů jsou statisticky význameně nulové na standardní hladině významnosti proti oboustranné alternativně. Budeme testovat nulovost spearmanových koeficientů, protože nepředpokládají konečnost kovariance a rozptylů.\n",
    "\n",
    "\n",
    "H0: cor(gov_exp, consumption) == 0<br>\n",
    "Ha: cor(gov_exp, consumption) != 0"
   ]
  },
  {
   "cell_type": "code",
   "execution_count": 33,
   "id": "06ee9ac4",
   "metadata": {
    "vscode": {
     "languageId": "r"
    }
   },
   "outputs": [
    {
     "data": {
      "text/plain": [
       "\n",
       "\tSpearman's rank correlation rho\n",
       "\n",
       "data:  data$gov_exp and data$consumption\n",
       "S = 84, p-value = 2.585e-06\n",
       "alternative hypothesis: true rho is not equal to 0\n",
       "sample estimates:\n",
       "     rho \n",
       "0.958498 \n"
      ]
     },
     "metadata": {},
     "output_type": "display_data"
    }
   ],
   "source": [
    "cor.test(data$gov_exp, data$consumption, method=\"spearman\")"
   ]
  },
  {
   "cell_type": "markdown",
   "id": "d2aa2a18",
   "metadata": {},
   "source": [
    "Zde bychom zamítli nulovou hypotézu ve prospěch alternativy. Výdaje vlády na jednoho obyvatele jsou statisticky význameně korelované s průměrnými výdaji obyvatelů. Znamená to, že kdybychom použili oba regresory, tak lineární regrese nemusí být numericky stabilní a model by mohl obsahovat redundantní informaci.\n",
    "\n",
    "Je zajímavé, jak moc souvisí výdaje státu s výdaji obyvatel."
   ]
  },
  {
   "cell_type": "code",
   "execution_count": 34,
   "id": "217e6466",
   "metadata": {
    "vscode": {
     "languageId": "r"
    }
   },
   "outputs": [
    {
     "name": "stderr",
     "output_type": "stream",
     "text": [
      "Warning message in cor.test.default(data$gov_exp, data$inflation, method = \"spearman\"):\n",
      "“Cannot compute exact p-value with ties”\n"
     ]
    },
    {
     "data": {
      "text/plain": [
       "\n",
       "\tSpearman's rank correlation rho\n",
       "\n",
       "data:  data$gov_exp and data$inflation\n",
       "S = 2586, p-value = 0.1996\n",
       "alternative hypothesis: true rho is not equal to 0\n",
       "sample estimates:\n",
       "       rho \n",
       "-0.2776545 \n"
      ]
     },
     "metadata": {},
     "output_type": "display_data"
    }
   ],
   "source": [
    "cor.test(data$gov_exp, data$inflation, method=\"spearman\")"
   ]
  },
  {
   "cell_type": "markdown",
   "id": "e430e135",
   "metadata": {},
   "source": [
    "Zde bychom nulovou hypotézu nezamítli. Přidáním informace o inflaci do modelu lineární regrese dává smysl a nemusí představovat redundantní informaci."
   ]
  },
  {
   "cell_type": "code",
   "execution_count": 35,
   "id": "d71a7b6e",
   "metadata": {
    "vscode": {
     "languageId": "r"
    }
   },
   "outputs": [
    {
     "name": "stderr",
     "output_type": "stream",
     "text": [
      "Warning message in cor.test.default(data$consumption, data$inflation, method = \"spearman\"):\n",
      "“Cannot compute exact p-value with ties”\n"
     ]
    },
    {
     "data": {
      "text/plain": [
       "\n",
       "\tSpearman's rank correlation rho\n",
       "\n",
       "data:  data$consumption and data$inflation\n",
       "S = 2761.3, p-value = 0.08748\n",
       "alternative hypothesis: true rho is not equal to 0\n",
       "sample estimates:\n",
       "       rho \n",
       "-0.3642668 \n"
      ]
     },
     "metadata": {},
     "output_type": "display_data"
    }
   ],
   "source": [
    "cor.test(data$consumption, data$inflation, method=\"spearman\")"
   ]
  },
  {
   "cell_type": "markdown",
   "id": "6a1b507d",
   "metadata": {},
   "source": [
    "Zde bychom také nulovou hypotézu nezamítli.\n",
    "\n",
    "Znamená to, že inflace není dostatečně vysvětlena výdaji obyvatel ani výdaji státu a nepředstavuje tedy redundantní informace."
   ]
  },
  {
   "cell_type": "markdown",
   "id": "0380c84a-e4b5-4aa3-a5ae-45c62b59b61b",
   "metadata": {},
   "source": [
    "# Regrese"
   ]
  },
  {
   "cell_type": "code",
   "execution_count": 36,
   "id": "5025fd01",
   "metadata": {
    "vscode": {
     "languageId": "r"
    }
   },
   "outputs": [],
   "source": [
    "ratio <- function(resid, gdp)\n",
    "{\n",
    "    cat(\"Mean resid size in ratio to gdp:\", (mean(abs(resid) / gdp)) * 100, \"%\")\n",
    "}"
   ]
  },
  {
   "cell_type": "markdown",
   "id": "ea13e313",
   "metadata": {},
   "source": [
    "Kvůli vysoké korelaci mezi gov_exp a consumption může být problém kovariance a matice lineární regrese může být špatné podmíněná. I tak zkusíme nejdříve obyčejnou lineární regresi bez regularizace."
   ]
  },
  {
   "cell_type": "code",
   "execution_count": 37,
   "id": "801d7a34-8116-4e95-9307-6df85b0442f0",
   "metadata": {
    "vscode": {
     "languageId": "r"
    }
   },
   "outputs": [
    {
     "data": {
      "text/plain": [
       "\n",
       "Call:\n",
       "lm(formula = data$gdp ~ data$gov_exp + data$inflation + data$uses_eur + \n",
       "    data$consumption)\n",
       "\n",
       "Residuals:\n",
       "    Min      1Q  Median      3Q     Max \n",
       "-7239.2 -2156.7   376.4  2192.1  7189.8 \n",
       "\n",
       "Coefficients:\n",
       "                   Estimate Std. Error t value Pr(>|t|)    \n",
       "(Intercept)       1641.5812  2857.7758   0.574 0.572789    \n",
       "data$gov_exp         2.2289     0.4499   4.954 0.000103 ***\n",
       "data$inflation    -171.7149   869.9026  -0.197 0.845730    \n",
       "data$uses_eurTRUE -717.1389  2883.6628  -0.249 0.806416    \n",
       "data$consumption    -0.2976     0.5076  -0.586 0.564930    \n",
       "---\n",
       "Signif. codes:  0 ‘***’ 0.001 ‘**’ 0.01 ‘*’ 0.05 ‘.’ 0.1 ‘ ’ 1\n",
       "\n",
       "Residual standard error: 3928 on 18 degrees of freedom\n",
       "Multiple R-squared:  0.9677,\tAdjusted R-squared:  0.9605 \n",
       "F-statistic: 134.7 on 4 and 18 DF,  p-value: 3.738e-13\n"
      ]
     },
     "metadata": {},
     "output_type": "display_data"
    },
    {
     "name": "stdout",
     "output_type": "stream",
     "text": [
      "Mean resid size in ratio to gdp: 9.688105 %"
     ]
    }
   ],
   "source": [
    "model <- lm(data$gdp ~ data$gov_exp + data$inflation + data$uses_eur + data$consumption)\n",
    "\n",
    "summary(model)\n",
    "\n",
    "ratio(model$resid, data$gdp)"
   ]
  },
  {
   "cell_type": "markdown",
   "id": "aa80c403",
   "metadata": {},
   "source": [
    "Jak je vidět z výstupu výše, tak obyčejná lineární regrese neměla zas tak velký problém s kovariancí mezi sloupci gov_exp a consumption. Koeficienty mají rozumné hodnoty. Myslím si, že v tomto případě není zas tak velký problém s numerickou stabilitou. Nicméně z výstupu výše je vidět, že nějaké koeficienty mají vysoké směrodatné odchylky.\n",
    "\n",
    "Je zajímavé, že koeficient u consumption má zápornou hodnotu přestože korelační koeficient vysvětlované proměnnou s tímto regresorem byl zhruba 0.95. Nemyslím si, že to je špatnou podmíněností matice.\n",
    "\n",
    "Přestože má HDP vysokou korelaci s gov_exp i consumption a zároveň má gov_exp vysokou korelaci s consumption, tak je vidět, že nejmenší reziduální součet čtverců je se záporným koeficientem u consumption.\n",
    "\n",
    "Jak jsme viděli u lineární regrese při použití pouze consumption nebo pouze gov_exp, tak koeficienty v obou případech byly menší než 2. Je tedy vidět, že nejmenší RSS se dosahuje, pokud se odhad HDP \"přestřelí\" pomocí gov_exp (koeficient má hodnotu 2.23) a následně trochu sníží pomocí consumption (koeficient má hodnotu -0.3).\n",
    "\n",
    "Z výstupu výše je vidět, že pokud se zvýší výdaj státu na obyvatele a rok o jedno euro, tak tento model bude predikovat o 2.23 eura větší HDP na obyvatele. Zároveň je ale nutné myslet na to, že čím vyšší je výdaj státu na obyvatele, tak tím vyšší nejspíše bude i výdaj obyvatel - takže výsledné zvýšení HDP bude zhruba pouze o 1.8 eura (2.23 - 0.3).\n",
    "\n",
    "Zároveň pokud se inflace zvýší o jedno procento, tak tento model bude odhadovat nižší HDP na obyvatele o 171 euro.\n",
    "\n",
    "Zároveň tento model bude odhadovat o 717 eur nižší HDP pokud daný stát má euro, což je zvláštní. Státy, které mají euro měli výrazně vyšší HDP.\n",
    "\n",
    "Tento model je velmi dobrý. Hodnota R^2 je vysoká.\n",
    "\n",
    "Jak jsme viděli dříve, tak tento model obsahuje skoro lineárně závislé regresory, takže prozkoumáme multikolinearitu a vyzkoušíme metody regularizace a indentifikace redundantních regresorů:"
   ]
  },
  {
   "cell_type": "markdown",
   "id": "d218580d",
   "metadata": {},
   "source": [
    "# Multikolinearita\n",
    "\n",
    "## Hřebenová regrese\n",
    "\n",
    "Zkusíme použít hřebenovou regresi, abychom se vypořádali se špatně podmíněnou maticí v lineární regresi."
   ]
  },
  {
   "cell_type": "code",
   "execution_count": 38,
   "id": "b2e6d526-5303-40e3-933f-da2f97279cd5",
   "metadata": {
    "vscode": {
     "languageId": "r"
    }
   },
   "outputs": [
    {
     "name": "stdout",
     "output_type": "stream",
     "text": [
      "modified HKB estimator is 0.06420836 \n",
      "modified L-W estimator is 0.08535865 \n",
      "smallest value of GCV  at 0.07 \n"
     ]
    }
   ],
   "source": [
    "models <- lm.ridge(data$gdp ~ data$inflation + data$uses_eur + data$consumption + data$gov_exp, lambda=seq(0, 100, 0.01))\n",
    "\n",
    "select(models)"
   ]
  },
  {
   "cell_type": "markdown",
   "id": "9708790b-0f6f-4325-bf76-8d7ecec688a8",
   "metadata": {},
   "source": [
    "Jak je vidět z výstupu výše, tak ideální hodnota lambdy je 0.07. Je překvapivé, že přestože je kolinearita výrazná, tak optimální síla regularizace je relativně malá."
   ]
  },
  {
   "cell_type": "code",
   "execution_count": 39,
   "id": "c9d1e011-1c94-4a34-9bbe-a0b28f2353b0",
   "metadata": {
    "vscode": {
     "languageId": "r"
    }
   },
   "outputs": [
    {
     "data": {
      "text/plain": [
       "                     data$inflation data$uses_eurTRUE      data$gov_exp \n",
       "    1128.98066706      -56.75116478     -912.13487734        2.04264417 \n",
       " data$consumption \n",
       "      -0.09198697 "
      ]
     },
     "metadata": {},
     "output_type": "display_data"
    }
   ],
   "source": [
    "model <- lm.ridge(data$gdp ~ data$inflation + data$uses_eur + data$gov_exp + data$consumption, lambda=0.07)\n",
    "model"
   ]
  },
  {
   "cell_type": "markdown",
   "id": "d13adf80-878b-4042-83d5-5a9192bdf478",
   "metadata": {},
   "source": [
    "Z výstupu výše je vidět, že koeficienty se změnili oproti normální lineární regresi. Je zajímavé, že keoficient u indentifikátoru, zda daná země má euro se ještě snížil. S rostoucí lambdou by se koeificienty měli být čím dál více přibližovat nule."
   ]
  },
  {
   "cell_type": "markdown",
   "id": "4507c22d-2e35-4fe4-8622-1330ff2ddbab",
   "metadata": {},
   "source": [
    "## VIF\n",
    "\n",
    "Vyzkoušíme ještě vif k tomu, abychom našli regresory, které nenesou další důležité informace oproti ostatním."
   ]
  },
  {
   "cell_type": "code",
   "execution_count": 40,
   "id": "3af077dd",
   "metadata": {
    "vscode": {
     "languageId": "r"
    }
   },
   "outputs": [
    {
     "data": {
      "text/html": [
       "<style>\n",
       ".dl-inline {width: auto; margin:0; padding: 0}\n",
       ".dl-inline>dt, .dl-inline>dd {float: none; width: auto; display: inline-block}\n",
       ".dl-inline>dt::after {content: \":\\0020\"; padding-right: .5ex}\n",
       ".dl-inline>dt:not(:first-of-type) {padding-left: .5ex}\n",
       "</style><dl class=dl-inline><dt>data$uses_eur</dt><dd>2.38994599625363</dd><dt>data$consumption</dt><dd>32.0535198603434</dd><dt>data$inflation</dt><dd>2.02837686161313</dd><dt>data$gov_exp</dt><dd>28.7315147252438</dd></dl>\n"
      ],
      "text/latex": [
       "\\begin{description*}\n",
       "\\item[data\\textbackslash{}\\$uses\\textbackslash{}\\_eur] 2.38994599625363\n",
       "\\item[data\\textbackslash{}\\$consumption] 32.0535198603434\n",
       "\\item[data\\textbackslash{}\\$inflation] 2.02837686161313\n",
       "\\item[data\\textbackslash{}\\$gov\\textbackslash{}\\_exp] 28.7315147252438\n",
       "\\end{description*}\n"
      ],
      "text/markdown": [
       "data$uses_eur\n",
       ":   2.38994599625363data$consumption\n",
       ":   32.0535198603434data$inflation\n",
       ":   2.02837686161313data$gov_exp\n",
       ":   28.7315147252438\n",
       "\n"
      ],
      "text/plain": [
       "   data$uses_eur data$consumption   data$inflation     data$gov_exp \n",
       "        2.389946        32.053520         2.028377        28.731515 "
      ]
     },
     "metadata": {},
     "output_type": "display_data"
    }
   ],
   "source": [
    "model <- lm(data$gdp ~ data$uses_eur + data$consumption + data$inflation + data$gov_exp)\n",
    "\n",
    "vif(model)"
   ]
  },
  {
   "cell_type": "markdown",
   "id": "d42d6a9f",
   "metadata": {},
   "source": [
    "Z výstupu výše je vidět, že pokud odebereme regresor consumption, tak model lineární regrese se výrazně nezhorší. Znamená to tedy, že consumption nese redundantní informaci. Jak jsme viděli dříve, tak consumption má vysokou korelaci s gov_exp a bude tedy lepší ji z modelu odebrat."
   ]
  },
  {
   "cell_type": "code",
   "execution_count": 41,
   "id": "455ef0f1",
   "metadata": {
    "vscode": {
     "languageId": "r"
    }
   },
   "outputs": [
    {
     "data": {
      "text/html": [
       "<style>\n",
       ".dl-inline {width: auto; margin:0; padding: 0}\n",
       ".dl-inline>dt, .dl-inline>dd {float: none; width: auto; display: inline-block}\n",
       ".dl-inline>dt::after {content: \":\\0020\"; padding-right: .5ex}\n",
       ".dl-inline>dt:not(:first-of-type) {padding-left: .5ex}\n",
       "</style><dl class=dl-inline><dt>data$uses_eur</dt><dd>2.22988860943661</dd><dt>data$gov_exp</dt><dd>1.29929880918875</dd><dt>data$inflation</dt><dd>1.84635519898126</dd></dl>\n"
      ],
      "text/latex": [
       "\\begin{description*}\n",
       "\\item[data\\textbackslash{}\\$uses\\textbackslash{}\\_eur] 2.22988860943661\n",
       "\\item[data\\textbackslash{}\\$gov\\textbackslash{}\\_exp] 1.29929880918875\n",
       "\\item[data\\textbackslash{}\\$inflation] 1.84635519898126\n",
       "\\end{description*}\n"
      ],
      "text/markdown": [
       "data$uses_eur\n",
       ":   2.22988860943661data$gov_exp\n",
       ":   1.29929880918875data$inflation\n",
       ":   1.84635519898126\n",
       "\n"
      ],
      "text/plain": [
       " data$uses_eur   data$gov_exp data$inflation \n",
       "      2.229889       1.299299       1.846355 "
      ]
     },
     "metadata": {},
     "output_type": "display_data"
    }
   ],
   "source": [
    "model <- lm(data$gdp ~ data$uses_eur + data$gov_exp + data$inflation)\n",
    "vif(model)"
   ]
  },
  {
   "cell_type": "markdown",
   "id": "57583129",
   "metadata": {},
   "source": [
    "Po odstranění consumption už v modelu není žádný příznak s hodnotou vif větší než 5, takže bychom nemusli odebírat další regresory z tohoto modelu z důvodu multikolinearity."
   ]
  },
  {
   "cell_type": "code",
   "execution_count": 42,
   "id": "112c2e83",
   "metadata": {
    "vscode": {
     "languageId": "r"
    }
   },
   "outputs": [
    {
     "data": {
      "text/plain": [
       "\n",
       "Call:\n",
       "lm(formula = data$gdp ~ data$uses_eur + data$gov_exp + data$inflation)\n",
       "\n",
       "Residuals:\n",
       "    Min      1Q  Median      3Q     Max \n",
       "-7075.3 -2048.9   522.5  2780.0  7895.9 \n",
       "\n",
       "Coefficients:\n",
       "                    Estimate Std. Error t value Pr(>|t|)    \n",
       "(Intercept)        8.581e+02  2.482e+03   0.346    0.733    \n",
       "data$uses_eurTRUE -1.155e+03  2.737e+03  -0.422    0.678    \n",
       "data$gov_exp       1.971e+00  9.401e-02  20.968 1.35e-14 ***\n",
       "data$inflation    -1.892e+01  8.155e+02  -0.023    0.982    \n",
       "---\n",
       "Signif. codes:  0 ‘***’ 0.001 ‘**’ 0.01 ‘*’ 0.05 ‘.’ 0.1 ‘ ’ 1\n",
       "\n",
       "Residual standard error: 3860 on 19 degrees of freedom\n",
       "Multiple R-squared:  0.9671,\tAdjusted R-squared:  0.9619 \n",
       "F-statistic: 185.9 on 3 and 19 DF,  p-value: 2.948e-14\n"
      ]
     },
     "metadata": {},
     "output_type": "display_data"
    },
    {
     "name": "stdout",
     "output_type": "stream",
     "text": [
      "Mean resid size in ratio to gdp: 10.18244 %"
     ]
    }
   ],
   "source": [
    "summary(model)\n",
    "\n",
    "ratio(model$resid, data$gdp)"
   ]
  },
  {
   "cell_type": "markdown",
   "id": "25f55f6b",
   "metadata": {},
   "source": [
    "Jak je vidět z výstupu výše, tak R^2 i adj. R^2 se snížily s vynecháním regresoru consumption, ale pouze o tisíciny. Můžeme zde opět vidět, že regresor consumption opravdu nesl redundantní informaci."
   ]
  },
  {
   "cell_type": "markdown",
   "id": "6ebf16af",
   "metadata": {},
   "source": [
    "# Odlehlá pozorování\n",
    "\n",
    "graf cookových vzdáleností:"
   ]
  },
  {
   "cell_type": "code",
   "execution_count": 43,
   "id": "a6d734b0",
   "metadata": {
    "vscode": {
     "languageId": "r"
    }
   },
   "outputs": [
    {
     "data": {
      "image/png": "[encoded data removed]",
      "text/plain": [
       "Plot with title “”"
      ]
     },
     "metadata": {
      "image/png": {
       "height": 420,
       "width": 420
      }
     },
     "output_type": "display_data"
    }
   ],
   "source": [
    "plot(model, which=4, col=c(\"blue\"))"
   ]
  },
  {
   "cell_type": "markdown",
   "id": "c2147071",
   "metadata": {},
   "source": [
    "Jak je vidět z grafu, data obsahují jednoho outliera. Znamená to, že kdybychom vynechali tento datový bod, tak se odhady koeficientů v lienární regresy výrazně změní.\n",
    "\n",
    "Průzkum outlieru:"
   ]
  },
  {
   "cell_type": "code",
   "execution_count": 44,
   "id": "3d444bb1",
   "metadata": {
    "vscode": {
     "languageId": "r"
    }
   },
   "outputs": [
    {
     "name": "stdout",
     "output_type": "stream",
     "text": [
      "Outlier:"
     ]
    },
    {
     "data": {
      "text/html": [
       "<table class=\"dataframe\">\n",
       "<caption>A data.frame: 1 × 6</caption>\n",
       "<thead>\n",
       "\t<tr><th></th><th scope=col>geo</th><th scope=col>gdp</th><th scope=col>consumption</th><th scope=col>gov_exp</th><th scope=col>inflation</th><th scope=col>uses_eur</th></tr>\n",
       "\t<tr><th></th><th scope=col>&lt;chr&gt;</th><th scope=col>&lt;dbl&gt;</th><th scope=col>&lt;dbl&gt;</th><th scope=col>&lt;dbl&gt;</th><th scope=col>&lt;dbl&gt;</th><th scope=col>&lt;lgl&gt;</th></tr>\n",
       "</thead>\n",
       "<tbody>\n",
       "\t<tr><th scope=row>16</th><td>LU</td><td>102230</td><td>43306</td><td>48007.76</td><td>0</td><td>TRUE</td></tr>\n",
       "</tbody>\n",
       "</table>\n"
      ],
      "text/latex": [
       "A data.frame: 1 × 6\n",
       "\\begin{tabular}{r|llllll}\n",
       "  & geo & gdp & consumption & gov\\_exp & inflation & uses\\_eur\\\\\n",
       "  & <chr> & <dbl> & <dbl> & <dbl> & <dbl> & <lgl>\\\\\n",
       "\\hline\n",
       "\t16 & LU & 102230 & 43306 & 48007.76 & 0 & TRUE\\\\\n",
       "\\end{tabular}\n"
      ],
      "text/markdown": [
       "\n",
       "A data.frame: 1 × 6\n",
       "\n",
       "| <!--/--> | geo &lt;chr&gt; | gdp &lt;dbl&gt; | consumption &lt;dbl&gt; | gov_exp &lt;dbl&gt; | inflation &lt;dbl&gt; | uses_eur &lt;lgl&gt; |\n",
       "|---|---|---|---|---|---|---|\n",
       "| 16 | LU | 102230 | 43306 | 48007.76 | 0 | TRUE |\n",
       "\n"
      ],
      "text/plain": [
       "   geo gdp    consumption gov_exp  inflation uses_eur\n",
       "16 LU  102230 43306       48007.76 0         TRUE    "
      ]
     },
     "metadata": {},
     "output_type": "display_data"
    },
    {
     "name": "stdout",
     "output_type": "stream",
     "text": [
      "\n",
      "With outlier:"
     ]
    },
    {
     "data": {
      "text/plain": [
       "   Min. 1st Qu.  Median    Mean 3rd Qu.    Max. \n",
       "   8880   15630   22370   27870   36995  102230 "
      ]
     },
     "metadata": {},
     "output_type": "display_data"
    },
    {
     "name": "stdout",
     "output_type": "stream",
     "text": [
      "\n",
      "Var: 390597777\n",
      "Standard dev.: 19763.55\n",
      "\n",
      "Data without outlier:"
     ]
    },
    {
     "data": {
      "text/plain": [
       "   Min. 1st Qu.  Median    Mean 3rd Qu.    Max. \n",
       "   8880   15525   21505   24490   32548   45670 "
      ]
     },
     "metadata": {},
     "output_type": "display_data"
    },
    {
     "name": "stdout",
     "output_type": "stream",
     "text": [
      "\n",
      "Var: 133920814\n",
      "Standard dev.: 11572.42\n",
      "\n",
      "Standard dev. is lowered by: 41.44565 %"
     ]
    },
    {
     "data": {
      "image/png": "[encoded data removed]",
      "text/plain": [
       "Plot with title “Histogram of data$gdp”"
      ]
     },
     "metadata": {
      "image/png": {
       "height": 420,
       "width": 420
      }
     },
     "output_type": "display_data"
    }
   ],
   "source": [
    "cat(\"Outlier:\")\n",
    "data[16, ]\n",
    "\n",
    "cat(\"\\nWith outlier:\")\n",
    "summary(data$gdp)\n",
    "hist(data$gdp)\n",
    "cat(\"\\nVar:\", var(data$gdp))\n",
    "cat(\"\\nStandard dev.:\", sd(data$gdp))\n",
    "\n",
    "subdata <- subset(data, rownames(data) != 16)\n",
    "\n",
    "cat(\"\\n\\nData without outlier:\")\n",
    "\n",
    "\n",
    "summary(subdata$gdp)\n",
    "cat(\"\\nVar:\", var(subdata$gdp))\n",
    "cat(\"\\nStandard dev.:\", sd(subdata$gdp))\n",
    "cat(\"\\n\\nStandard dev. is lowered by:\", (sd(data$gdp) - sd(subdata$gdp)) / sd(data$gdp) * 100, \"%\")"
   ]
  },
  {
   "cell_type": "markdown",
   "id": "2c9d8251",
   "metadata": {},
   "source": [
    "Jak je vidět z výstupu výše, tak směrodatná odchylka HDP se výrazně sníží pokud vynecháme outliera, který je vidět v histogramu.\n",
    "\n",
    "model lineární regrese bez outlieru:"
   ]
  },
  {
   "cell_type": "code",
   "execution_count": 45,
   "id": "4948cfa0",
   "metadata": {
    "vscode": {
     "languageId": "r"
    }
   },
   "outputs": [
    {
     "data": {
      "image/png": "[encoded data removed]",
      "text/plain": [
       "Plot with title “”"
      ]
     },
     "metadata": {
      "image/png": {
       "height": 420,
       "width": 420
      }
     },
     "output_type": "display_data"
    }
   ],
   "source": [
    "model <- lm(subdata$gdp ~ subdata$gov_exp + subdata$uses_eur + subdata$inflation)\n",
    "\n",
    "plot(model, which=4, col=c(\"blue\"))"
   ]
  },
  {
   "cell_type": "markdown",
   "id": "96c71cac",
   "metadata": {},
   "source": [
    "Jak je vidět z výstupu výše, vynecháním tohoto outlieru v lineární regresi zajistí, že už zde žádní další outlieři nejsou."
   ]
  },
  {
   "cell_type": "code",
   "execution_count": 46,
   "id": "eace6a09",
   "metadata": {
    "vscode": {
     "languageId": "r"
    }
   },
   "outputs": [
    {
     "data": {
      "text/plain": [
       "\n",
       "Call:\n",
       "lm(formula = subdata$gdp ~ subdata$gov_exp + subdata$uses_eur + \n",
       "    subdata$inflation)\n",
       "\n",
       "Residuals:\n",
       "    Min      1Q  Median      3Q     Max \n",
       "-4181.6 -1279.6  -217.3  1057.4  5761.6 \n",
       "\n",
       "Coefficients:\n",
       "                      Estimate Std. Error t value Pr(>|t|)    \n",
       "(Intercept)          1.992e+03  1.578e+03   1.262    0.223    \n",
       "subdata$gov_exp      1.555e+00  9.657e-02  16.100 3.92e-12 ***\n",
       "subdata$uses_eurTRUE 3.244e+03  1.904e+03   1.704    0.106    \n",
       "subdata$inflation    6.477e+02  5.283e+02   1.226    0.236    \n",
       "---\n",
       "Signif. codes:  0 ‘***’ 0.001 ‘**’ 0.01 ‘*’ 0.05 ‘.’ 0.1 ‘ ’ 1\n",
       "\n",
       "Residual standard error: 2433 on 18 degrees of freedom\n",
       "Multiple R-squared:  0.9621,\tAdjusted R-squared:  0.9558 \n",
       "F-statistic: 152.4 on 3 and 18 DF,  p-value: 5.563e-13\n"
      ]
     },
     "metadata": {},
     "output_type": "display_data"
    },
    {
     "name": "stdout",
     "output_type": "stream",
     "text": [
      "\n",
      "Mean resid size in ratio to gdp: 6.581443 %"
     ]
    }
   ],
   "source": [
    "summary(model)\n",
    "\n",
    "cat(\"\\n\")\n",
    "ratio(model$resid, subdata$gdp)"
   ]
  },
  {
   "cell_type": "markdown",
   "id": "e685fe1f-719c-4c65-b0cb-20f7ceac2934",
   "metadata": {},
   "source": [
    "# Předpoklady lineární regrese\n",
    "\n",
    "Lineární regrese má několik předpokladů:\n",
    "\n",
    "- Matice X neobsahuje lineární závislé sloupce - problém multikolinearity jsme prozkoumali už dříve\n",
    "- odchylky jsou nezávislé a stejně rozdělené - otestujeme normalitu reziduí\n",
    "\n",
    "Chtěli bychom otestovat normalitu reziduí na standardní hladině významnosti:\n",
    "\n",
    "H0: Rezidua jsou z normálního rozdělení<br>\n",
    "Ha: Rezidua nejsou z normálního rozdělení"
   ]
  },
  {
   "cell_type": "code",
   "execution_count": 47,
   "id": "7d7215ca-20c3-46b3-8074-933db5f996bc",
   "metadata": {
    "vscode": {
     "languageId": "r"
    }
   },
   "outputs": [
    {
     "data": {
      "text/plain": [
       "\n",
       "\tShapiro-Wilk normality test\n",
       "\n",
       "data:  model$resid\n",
       "W = 0.97204, p-value = 0.7377\n"
      ]
     },
     "metadata": {},
     "output_type": "display_data"
    }
   ],
   "source": [
    "model <- lm(data$gdp ~ data$inflation + data$uses_eur + data$consumption + data$gov_exp)\n",
    "\n",
    "shapiro.test(model$resid)"
   ]
  },
  {
   "cell_type": "markdown",
   "id": "450950bb-0d5f-41b1-8f13-e31ce1fde1a8",
   "metadata": {},
   "source": [
    "Na standardní hladině významnosti bychom nezamítli nulovou hypotézu. Můžeme tedy předpokládat, že odchylky jsou stejně rozdělené a platí tedy předpoklady modelu lineární regrese."
   ]
  },
  {
   "cell_type": "markdown",
   "id": "b40293c2",
   "metadata": {},
   "source": [
    "# Výběr finálního modelu"
   ]
  },
  {
   "cell_type": "markdown",
   "id": "7577ac7b",
   "metadata": {},
   "source": [
    "Budeme vybírat nejlepší model na základě AIC kritéria, které nám zajistí výběr optimálního modelu s optimálním počtem regresorů.\n",
    "\n",
    "AIC kritérium stojí na tom, že odchylky jsou normálně rozdělené.\n",
    "\n",
    "Budeme postupně odebírat regresory, dokud nebudeme mít nejlepší model.\n",
    "\n",
    "Budeme i zároveň testovat normalitu reziduí na standardní hladině významnosti:\n",
    "\n",
    "H0: rezidua mají normální rozdělení<br>\n",
    "Ha: rezidua nemají normální rozdělení"
   ]
  },
  {
   "cell_type": "code",
   "execution_count": 48,
   "id": "37ff8f33",
   "metadata": {
    "vscode": {
     "languageId": "r"
    }
   },
   "outputs": [
    {
     "data": {
      "text/plain": [
       "\n",
       "\tShapiro-Wilk normality test\n",
       "\n",
       "data:  model$resid\n",
       "W = 0.97204, p-value = 0.7377\n"
      ]
     },
     "metadata": {},
     "output_type": "display_data"
    },
    {
     "data": {
      "text/html": [
       "<table class=\"dataframe\">\n",
       "<caption>A anova: 5 × 6</caption>\n",
       "<thead>\n",
       "\t<tr><th></th><th scope=col>Df</th><th scope=col>Sum of Sq</th><th scope=col>RSS</th><th scope=col>AIC</th><th scope=col>F value</th><th scope=col>Pr(&gt;F)</th></tr>\n",
       "\t<tr><th></th><th scope=col>&lt;dbl&gt;</th><th scope=col>&lt;dbl&gt;</th><th scope=col>&lt;dbl&gt;</th><th scope=col>&lt;dbl&gt;</th><th scope=col>&lt;dbl&gt;</th><th scope=col>&lt;dbl&gt;</th></tr>\n",
       "</thead>\n",
       "<tbody>\n",
       "\t<tr><th scope=row>&lt;none&gt;</th><td>NA</td><td>         NA</td><td>277744645</td><td>385.0545</td><td>         NA</td><td>          NA</td></tr>\n",
       "\t<tr><th scope=row>data$gov_exp</th><td> 1</td><td>378712067.7</td><td>656456713</td><td>402.8381</td><td>24.54346946</td><td>0.0001025402</td></tr>\n",
       "\t<tr><th scope=row>data$consumption</th><td> 1</td><td>  5304779.8</td><td>283049425</td><td>383.4897</td><td> 0.34379074</td><td>0.5649304684</td></tr>\n",
       "\t<tr><th scope=row>data$inflation</th><td> 1</td><td>   601240.1</td><td>278345885</td><td>383.1043</td><td> 0.03896501</td><td>0.8457299368</td></tr>\n",
       "\t<tr><th scope=row>data$uses_eur</th><td> 1</td><td>   954312.9</td><td>278698958</td><td>383.1334</td><td> 0.06184686</td><td>0.8064157168</td></tr>\n",
       "</tbody>\n",
       "</table>\n"
      ],
      "text/latex": [
       "A anova: 5 × 6\n",
       "\\begin{tabular}{r|llllll}\n",
       "  & Df & Sum of Sq & RSS & AIC & F value & Pr(>F)\\\\\n",
       "  & <dbl> & <dbl> & <dbl> & <dbl> & <dbl> & <dbl>\\\\\n",
       "\\hline\n",
       "\t<none> & NA &          NA & 277744645 & 385.0545 &          NA &           NA\\\\\n",
       "\tdata\\$gov\\_exp &  1 & 378712067.7 & 656456713 & 402.8381 & 24.54346946 & 0.0001025402\\\\\n",
       "\tdata\\$consumption &  1 &   5304779.8 & 283049425 & 383.4897 &  0.34379074 & 0.5649304684\\\\\n",
       "\tdata\\$inflation &  1 &    601240.1 & 278345885 & 383.1043 &  0.03896501 & 0.8457299368\\\\\n",
       "\tdata\\$uses\\_eur &  1 &    954312.9 & 278698958 & 383.1334 &  0.06184686 & 0.8064157168\\\\\n",
       "\\end{tabular}\n"
      ],
      "text/markdown": [
       "\n",
       "A anova: 5 × 6\n",
       "\n",
       "| <!--/--> | Df &lt;dbl&gt; | Sum of Sq &lt;dbl&gt; | RSS &lt;dbl&gt; | AIC &lt;dbl&gt; | F value &lt;dbl&gt; | Pr(&gt;F) &lt;dbl&gt; |\n",
       "|---|---|---|---|---|---|---|\n",
       "| &lt;none&gt; | NA |          NA | 277744645 | 385.0545 |          NA |           NA |\n",
       "| data$gov_exp |  1 | 378712067.7 | 656456713 | 402.8381 | 24.54346946 | 0.0001025402 |\n",
       "| data$consumption |  1 |   5304779.8 | 283049425 | 383.4897 |  0.34379074 | 0.5649304684 |\n",
       "| data$inflation |  1 |    601240.1 | 278345885 | 383.1043 |  0.03896501 | 0.8457299368 |\n",
       "| data$uses_eur |  1 |    954312.9 | 278698958 | 383.1334 |  0.06184686 | 0.8064157168 |\n",
       "\n"
      ],
      "text/plain": [
       "                 Df Sum of Sq   RSS       AIC      F value     Pr(>F)      \n",
       "<none>           NA          NA 277744645 385.0545          NA           NA\n",
       "data$gov_exp      1 378712067.7 656456713 402.8381 24.54346946 0.0001025402\n",
       "data$consumption  1   5304779.8 283049425 383.4897  0.34379074 0.5649304684\n",
       "data$inflation    1    601240.1 278345885 383.1043  0.03896501 0.8457299368\n",
       "data$uses_eur     1    954312.9 278698958 383.1334  0.06184686 0.8064157168"
      ]
     },
     "metadata": {},
     "output_type": "display_data"
    }
   ],
   "source": [
    "model <- lm(data$gdp ~ (data$gov_exp + data$consumption + data$inflation) + data$uses_eur)\n",
    "shapiro.test(model$resid)\n",
    "\n",
    "drop1(model,test=\"F\")"
   ]
  },
  {
   "cell_type": "markdown",
   "id": "55bfbb32-1dc1-4176-aa00-3450ea857ae2",
   "metadata": {},
   "source": [
    "Nezamítáme nulovou hypotézu, že rezidua mají normální rozdělení, takže můžeme použít AIC kritérium.\n",
    "\n",
    "Z výstupu výše je vidět, že můžeme vynechat regresor inflation."
   ]
  },
  {
   "cell_type": "code",
   "execution_count": 49,
   "id": "d391b8a2",
   "metadata": {
    "vscode": {
     "languageId": "r"
    }
   },
   "outputs": [
    {
     "data": {
      "text/plain": [
       "\n",
       "\tShapiro-Wilk normality test\n",
       "\n",
       "data:  model$resid\n",
       "W = 0.97161, p-value = 0.7274\n"
      ]
     },
     "metadata": {},
     "output_type": "display_data"
    },
    {
     "data": {
      "text/html": [
       "<table class=\"dataframe\">\n",
       "<caption>A anova: 4 × 6</caption>\n",
       "<thead>\n",
       "\t<tr><th></th><th scope=col>Df</th><th scope=col>Sum of Sq</th><th scope=col>RSS</th><th scope=col>AIC</th><th scope=col>F value</th><th scope=col>Pr(&gt;F)</th></tr>\n",
       "\t<tr><th></th><th scope=col>&lt;dbl&gt;</th><th scope=col>&lt;dbl&gt;</th><th scope=col>&lt;dbl&gt;</th><th scope=col>&lt;dbl&gt;</th><th scope=col>&lt;dbl&gt;</th><th scope=col>&lt;dbl&gt;</th></tr>\n",
       "</thead>\n",
       "<tbody>\n",
       "\t<tr><th scope=row>&lt;none&gt;</th><td>NA</td><td>         NA</td><td>278345885</td><td>383.1043</td><td>         NA</td><td>          NA</td></tr>\n",
       "\t<tr><th scope=row>data$gov_exp</th><td> 1</td><td>410068973.0</td><td>688414858</td><td>401.9314</td><td>27.99146995</td><td>4.170528e-05</td></tr>\n",
       "\t<tr><th scope=row>data$consumption</th><td> 1</td><td>  4711559.7</td><td>283057445</td><td>381.4903</td><td> 0.32161292</td><td>5.772794e-01</td></tr>\n",
       "\t<tr><th scope=row>data$uses_eur</th><td> 1</td><td>   449337.9</td><td>278795223</td><td>381.1414</td><td> 0.03067198</td><td>8.628271e-01</td></tr>\n",
       "</tbody>\n",
       "</table>\n"
      ],
      "text/latex": [
       "A anova: 4 × 6\n",
       "\\begin{tabular}{r|llllll}\n",
       "  & Df & Sum of Sq & RSS & AIC & F value & Pr(>F)\\\\\n",
       "  & <dbl> & <dbl> & <dbl> & <dbl> & <dbl> & <dbl>\\\\\n",
       "\\hline\n",
       "\t<none> & NA &          NA & 278345885 & 383.1043 &          NA &           NA\\\\\n",
       "\tdata\\$gov\\_exp &  1 & 410068973.0 & 688414858 & 401.9314 & 27.99146995 & 4.170528e-05\\\\\n",
       "\tdata\\$consumption &  1 &   4711559.7 & 283057445 & 381.4903 &  0.32161292 & 5.772794e-01\\\\\n",
       "\tdata\\$uses\\_eur &  1 &    449337.9 & 278795223 & 381.1414 &  0.03067198 & 8.628271e-01\\\\\n",
       "\\end{tabular}\n"
      ],
      "text/markdown": [
       "\n",
       "A anova: 4 × 6\n",
       "\n",
       "| <!--/--> | Df &lt;dbl&gt; | Sum of Sq &lt;dbl&gt; | RSS &lt;dbl&gt; | AIC &lt;dbl&gt; | F value &lt;dbl&gt; | Pr(&gt;F) &lt;dbl&gt; |\n",
       "|---|---|---|---|---|---|---|\n",
       "| &lt;none&gt; | NA |          NA | 278345885 | 383.1043 |          NA |           NA |\n",
       "| data$gov_exp |  1 | 410068973.0 | 688414858 | 401.9314 | 27.99146995 | 4.170528e-05 |\n",
       "| data$consumption |  1 |   4711559.7 | 283057445 | 381.4903 |  0.32161292 | 5.772794e-01 |\n",
       "| data$uses_eur |  1 |    449337.9 | 278795223 | 381.1414 |  0.03067198 | 8.628271e-01 |\n",
       "\n"
      ],
      "text/plain": [
       "                 Df Sum of Sq   RSS       AIC      F value     Pr(>F)      \n",
       "<none>           NA          NA 278345885 383.1043          NA           NA\n",
       "data$gov_exp      1 410068973.0 688414858 401.9314 27.99146995 4.170528e-05\n",
       "data$consumption  1   4711559.7 283057445 381.4903  0.32161292 5.772794e-01\n",
       "data$uses_eur     1    449337.9 278795223 381.1414  0.03067198 8.628271e-01"
      ]
     },
     "metadata": {},
     "output_type": "display_data"
    }
   ],
   "source": [
    "model <- lm(data$gdp ~ data$gov_exp + data$consumption + data$uses_eur)\n",
    "shapiro.test(model$resid)\n",
    "\n",
    "drop1(model, test=\"F\")"
   ]
  },
  {
   "cell_type": "code",
   "execution_count": 50,
   "id": "4811baac",
   "metadata": {
    "vscode": {
     "languageId": "r"
    }
   },
   "outputs": [
    {
     "data": {
      "text/plain": [
       "\n",
       "\tShapiro-Wilk normality test\n",
       "\n",
       "data:  model$resid\n",
       "W = 0.96587, p-value = 0.5912\n"
      ]
     },
     "metadata": {},
     "output_type": "display_data"
    },
    {
     "data": {
      "text/html": [
       "<table class=\"dataframe\">\n",
       "<caption>A anova: 3 × 6</caption>\n",
       "<thead>\n",
       "\t<tr><th></th><th scope=col>Df</th><th scope=col>Sum of Sq</th><th scope=col>RSS</th><th scope=col>AIC</th><th scope=col>F value</th><th scope=col>Pr(&gt;F)</th></tr>\n",
       "\t<tr><th></th><th scope=col>&lt;dbl&gt;</th><th scope=col>&lt;dbl&gt;</th><th scope=col>&lt;dbl&gt;</th><th scope=col>&lt;dbl&gt;</th><th scope=col>&lt;dbl&gt;</th><th scope=col>&lt;dbl&gt;</th></tr>\n",
       "</thead>\n",
       "<tbody>\n",
       "\t<tr><th scope=row>&lt;none&gt;</th><td>NA</td><td>       NA</td><td>278795223</td><td>381.1414</td><td>        NA</td><td>          NA</td></tr>\n",
       "\t<tr><th scope=row>data$gov_exp</th><td> 1</td><td>505453086</td><td>784248309</td><td>402.9291</td><td>36.2598096</td><td>6.908322e-06</td></tr>\n",
       "\t<tr><th scope=row>data$consumption</th><td> 1</td><td>  8546851</td><td>287342074</td><td>379.8359</td><td> 0.6131275</td><td>4.427865e-01</td></tr>\n",
       "</tbody>\n",
       "</table>\n"
      ],
      "text/latex": [
       "A anova: 3 × 6\n",
       "\\begin{tabular}{r|llllll}\n",
       "  & Df & Sum of Sq & RSS & AIC & F value & Pr(>F)\\\\\n",
       "  & <dbl> & <dbl> & <dbl> & <dbl> & <dbl> & <dbl>\\\\\n",
       "\\hline\n",
       "\t<none> & NA &        NA & 278795223 & 381.1414 &         NA &           NA\\\\\n",
       "\tdata\\$gov\\_exp &  1 & 505453086 & 784248309 & 402.9291 & 36.2598096 & 6.908322e-06\\\\\n",
       "\tdata\\$consumption &  1 &   8546851 & 287342074 & 379.8359 &  0.6131275 & 4.427865e-01\\\\\n",
       "\\end{tabular}\n"
      ],
      "text/markdown": [
       "\n",
       "A anova: 3 × 6\n",
       "\n",
       "| <!--/--> | Df &lt;dbl&gt; | Sum of Sq &lt;dbl&gt; | RSS &lt;dbl&gt; | AIC &lt;dbl&gt; | F value &lt;dbl&gt; | Pr(&gt;F) &lt;dbl&gt; |\n",
       "|---|---|---|---|---|---|---|\n",
       "| &lt;none&gt; | NA |        NA | 278795223 | 381.1414 |         NA |           NA |\n",
       "| data$gov_exp |  1 | 505453086 | 784248309 | 402.9291 | 36.2598096 | 6.908322e-06 |\n",
       "| data$consumption |  1 |   8546851 | 287342074 | 379.8359 |  0.6131275 | 4.427865e-01 |\n",
       "\n"
      ],
      "text/plain": [
       "                 Df Sum of Sq RSS       AIC      F value    Pr(>F)      \n",
       "<none>           NA        NA 278795223 381.1414         NA           NA\n",
       "data$gov_exp      1 505453086 784248309 402.9291 36.2598096 6.908322e-06\n",
       "data$consumption  1   8546851 287342074 379.8359  0.6131275 4.427865e-01"
      ]
     },
     "metadata": {},
     "output_type": "display_data"
    }
   ],
   "source": [
    "model <- lm(data$gdp ~ data$gov_exp + data$consumption)\n",
    "\n",
    "shapiro.test(model$resid)\n",
    "\n",
    "drop1(model, test=\"F\")"
   ]
  },
  {
   "cell_type": "markdown",
   "id": "290f5c26-ad71-4bec-9eb7-944ad6241f80",
   "metadata": {},
   "source": [
    "Pomocí anova testu jsme dospěli k finálnímu modelu s pouze jedním regresorem - government expenditure"
   ]
  },
  {
   "cell_type": "code",
   "execution_count": 51,
   "id": "d5f19eac",
   "metadata": {
    "vscode": {
     "languageId": "r"
    }
   },
   "outputs": [
    {
     "data": {
      "text/plain": [
       "\n",
       "Call:\n",
       "lm(formula = data$gdp ~ data$gov_exp)\n",
       "\n",
       "Residuals:\n",
       "    Min      1Q  Median      3Q     Max \n",
       "-7207.0 -1891.5   505.2  2352.4  8414.8 \n",
       "\n",
       "Coefficients:\n",
       "              Estimate Std. Error t value Pr(>|t|)    \n",
       "(Intercept)  3.257e+02  1.358e+03    0.24    0.813    \n",
       "data$gov_exp 1.947e+00  7.904e-02   24.64   <2e-16 ***\n",
       "---\n",
       "Signif. codes:  0 ‘***’ 0.001 ‘**’ 0.01 ‘*’ 0.05 ‘.’ 0.1 ‘ ’ 1\n",
       "\n",
       "Residual standard error: 3699 on 21 degrees of freedom\n",
       "Multiple R-squared:  0.9666,\tAdjusted R-squared:  0.965 \n",
       "F-statistic:   607 on 1 and 21 DF,  p-value: < 2.2e-16\n"
      ]
     },
     "metadata": {},
     "output_type": "display_data"
    }
   ],
   "source": [
    "final_model = lm(data$gdp ~ data$gov_exp)\n",
    "summary(final_model)"
   ]
  },
  {
   "cell_type": "markdown",
   "id": "a108690f-a83f-4d78-ab55-d3e297b29e01",
   "metadata": {},
   "source": [
    "Jak je vidět z výstupů výše, tak pomocí AIC kritéria i pomocí Anova testů jsme došli ke stejnému finálnímu modelu, který obsahuje pouze jeden regresor - výdaje státu přepočítáné na obyvatele.\n",
    "\n",
    "Koeficient R^2 hodnotí kvalitu daného modelu oproti modelu, který predikuje pouze průměr. Říká nám kolik variability bylo vysvětleno průměrem oproti našemu modelu, který používá více regresorů.\n",
    "\n",
    "Tento model je velice dobrý - R^2 = 0,9666 a i adjustovaný R^2 je velmi vysoký. Zároveň to říká, že tento model má 30x menší rezidua, než model, který by pouze předpovídal průměr (1 / (1 - R^2)).\n",
    "\n",
    "Zároveň je vidět z výstupu výše, že v průměru je reziduum zhruba 10% HDP, takže tento model je přesný. Dalo by se říct, že dokáže odhadnout HDP v průměru s přesnosti +-10%. Myslím si, že tento výsledek je velice dobrý když vezmeme v potaz, že používá pouze jeden regresor a směrodatná odchylka HDP byla 70% průměrné hodnoty.\n",
    "\n",
    "Nulovost koeficientu u výdajů státu bychom zamítli na standardní hladině významnosti. Je ale zajímavé, že nulovost interceptu bychom nezamítli, přestože má hodnotu 325,7. Intercept z modelu nemá smysl odstraňovat, protože nám zajišťuje nestrannost odhadů.\n",
    "\n",
    "Státům, které nemají vůbec žádné výdaje by odhadl HDP 325,7 euro na obyvatele za rok. S každým státem utraceným eurem na obyvatele navíc by tento model odhadl o 1,947 euro větší HDP.\n",
    "\n",
    "Malá p hodnota F statistiky (poslední řádek summary) značí, že náš model je statisticky významný a alespoň jeden regresor souvisí s vysvětlovanou proměnnou.\n",
    "\n",
    "Z výstupu výše je také vidět to, že residua mají kladný medián. Minimum je -7 207 -> to znamená, že model predikoval nějakou hodnotu nejvíce o 7 207 méně než byla skutečnost. Naopak maximum je 8 414 -> model predikoval nějaké zemi nejvíce o 8 414 větší HDP, než byla skutečnost."
   ]
  },
  {
   "cell_type": "code",
   "execution_count": 53,
   "id": "32991e07",
   "metadata": {},
   "outputs": [
    {
     "name": "stderr",
     "output_type": "stream",
     "text": [
      "Warning message in predict.lm(final_model, interval = \"prediction\"):\n",
      "“predictions on current data refer to _future_ responses\n",
      "”\n"
     ]
    },
    {
     "data": {
      "image/png": "[encoded data removed]",
      "text/plain": [
       "plot without title"
      ]
     },
     "metadata": {
      "image/png": {
       "height": 420,
       "width": 420
      }
     },
     "output_type": "display_data"
    }
   ],
   "source": [
    "tmp <- predict(final_model, interval=\"prediction\")\n",
    "tmp <- cbind(data, tmp)\n",
    "\n",
    "ggplot(tmp, aes(x=gov_exp, y=gdp)) +\n",
    "    geom_point() +\n",
    "    geom_line(aes(y=fit), color=\"blue\") +\n",
    "    geom_line(aes(y=lwr), color = \"black\", linetype = \"dashed\") +\n",
    "    geom_line(aes(y=upr), color = \"black\", linetype = \"dashed\")"
   ]
  }
 ],
 "metadata": {
  "kernelspec": {
   "display_name": "R",
   "language": "R",
   "name": "ir"
  },
  "language_info": {
   "codemirror_mode": "r",
   "file_extension": ".r",
   "mimetype": "text/x-r-source",
   "name": "R",
   "pygments_lexer": "r",
   "version": "4.3.1"
  }
 },
 "nbformat": 4,
 "nbformat_minor": 5
}
